{
 "cells": [
  {
   "cell_type": "markdown",
   "metadata": {},
   "source": [
    "# Takeaways\n",
    "* **Extract the add_lags functionality and use everywhere**\n",
    "* **Extract the train_test_model and use it to test strats**\n",
    "* Use np.sign and accuracy for hit rate\n",
    "* Use np.stack to flatten out all the values in a DataFrame\n",
    "* Do lags on time series data iteratively, add_lags is a great function below\n",
    "* OLS does not predict returns well\n",
    "* Neither do neural nets out of sample - feature engineering is key\n",
    "* **Momentum is just the mean of returns**\n",
    "* Any feature you can think of can be used as the input to a perceptron/neural net\n",
    "* Online Learning architectures best for finance\n",
    "* Classification (discrete) vs. Estimation (continuous)\n",
    "* Policies: for observed state space x, take action y\n",
    "* TODO: Find intraday sources to run this on as well as more signals (volume, autocorrelation, autocorrelation decay) - also try it on the Open instead of the close?\n",
    "* `np.random.randint(0, 2, (samples, features))` for on/off bit initialization\n",
    "* *layer_two = sigmoid(np.dot(layer_zero, weights))*\n",
    "* `layer_two.round() # THIS IS HOW CLASSIFICATION WORKS - EACH CLASS IS GIVEN AN INTEGER VALUE`"
   ]
  },
  {
   "cell_type": "markdown",
   "metadata": {},
   "source": [
    "# Introduction\n",
    "* A function that captures all available data and outputs the optimal stocks to buy with minimal information loss would make you extremely rich.\n",
    "* Covering Ordinary Least Squares, Neural Nets to seek inefficiences, effectiveness of an AI first approach."
   ]
  },
  {
   "cell_type": "markdown",
   "metadata": {},
   "source": [
    "# Linear Regression Model Attributes\n",
    "* **Linearity** model coefficients and error are linear\n",
    "* **Indepence** variables not perfectly correlated\n",
    "* **Zero Mean** mean of residuals should be zero\n",
    "* **No Correlation** residuals should not be correlated with variables\n",
    "* **Homescedasticity** standard deviation of variables should be constant\n",
    "* **No Autocorrelation** Residuals should not be correlated with each other"
   ]
  },
  {
   "cell_type": "markdown",
   "metadata": {},
   "source": [
    "# Neural Network Architecture Attribrutes\n",
    "* Inputs!\n",
    "* Outputs!\n",
    "* Hidden Layers: which only meants **they are not inputs nor outputs**\n",
    "* Weight between these!\n",
    "* That's it!"
   ]
  },
  {
   "cell_type": "markdown",
   "metadata": {},
   "source": [
    "# Tensor Definitions\n",
    "* Tensor: A 0 (scalar), 1 ( vector), 2 (matrix), or N (hyperspace)-dimensional array of data\n",
    "* **Tensor Operations**: Broadcasting (match rank between tensors of different size), dot product, element-wise multiplication/subtraction/addition, reshapes\n",
    "* **Neural Network**: A collection of objects *(tensors and tensor operations connecting them)* consisting of Inputs, Outputs, and 0 to N hidden layers.\n",
    "* **Weights**: Tensors flowing data from one layer to the next"
   ]
  },
  {
   "cell_type": "code",
   "execution_count": 81,
   "metadata": {},
   "outputs": [
    {
     "name": "stdout",
     "output_type": "stream",
     "text": [
      "[[ 0  2  4  6  8]\n",
      " [10 12 14 16 18]]\n",
      "[12 11]\n"
     ]
    },
    {
     "data": {
      "text/plain": [
       "array([ 5,  8, 11, 14, 17])"
      ]
     },
     "execution_count": 81,
     "metadata": {},
     "output_type": "execute_result"
    }
   ],
   "source": [
    "t0 = np.array(10) # Scalar Tensor 0d\n",
    "t1 = np.array((2, 1)) # Vector Tensor 1D\n",
    "t2 = np.arange(10).reshape((2, 5)) # Matrix Tensor 2d\n",
    "print(t2 + t2) # Element wise\n",
    "print(t1 + t0) # Broadcasting\n",
    "np.dot(t2.T, t1) # Dot Product, transposed for shape matching"
   ]
  },
  {
   "cell_type": "markdown",
   "metadata": {},
   "source": [
    "# Simplest Neural Net\n",
    "* One input layer\n",
    "* One weights layer\n",
    "* One output layer"
   ]
  },
  {
   "cell_type": "code",
   "execution_count": 108,
   "metadata": {},
   "outputs": [
    {
     "data": {
      "text/plain": [
       "array([[0.53399673],\n",
       "       [0.66676769],\n",
       "       [0.20900039],\n",
       "       [0.21952084],\n",
       "       [0.51139242]])"
      ]
     },
     "execution_count": 108,
     "metadata": {},
     "output_type": "execute_result"
    }
   ],
   "source": [
    "# Basical Neural Net architecture\n",
    "features = 2\n",
    "samples = 5\n",
    "input_arr = np.random.random((samples, features))\n",
    "weights = np.random.random((features, 1)) # 1 weight per feature\n",
    "output = np.dot(input_arr, weights)\n",
    "output # Scores for each  feature"
   ]
  },
  {
   "cell_type": "markdown",
   "metadata": {},
   "source": [
    "# Introducing Hidden Layers\n",
    "* Introduce a first hidden layer with 3 units"
   ]
  },
  {
   "cell_type": "code",
   "execution_count": 109,
   "metadata": {},
   "outputs": [],
   "source": [
    "units = 3"
   ]
  },
  {
   "cell_type": "code",
   "execution_count": 110,
   "metadata": {},
   "outputs": [
    {
     "data": {
      "text/plain": [
       "array([[0.57744137, 0.44170782, 0.3596781 ],\n",
       "       [0.32133193, 0.20820724, 0.45125862]])"
      ]
     },
     "execution_count": 110,
     "metadata": {},
     "output_type": "execute_result"
    }
   ],
   "source": [
    "w0 = np.random.random((features, units)) # 2 features x 3 units\n",
    "w0 "
   ]
  },
  {
   "cell_type": "code",
   "execution_count": 111,
   "metadata": {},
   "outputs": [
    {
     "data": {
      "text/plain": [
       "array([[0.62222163, 0.46686993, 0.4483036 ],\n",
       "       [0.76406295, 0.56255727, 0.62223967],\n",
       "       [0.23013866, 0.16149979, 0.24048878],\n",
       "       [0.24151908, 0.16930571, 0.25358522],\n",
       "       [0.57365487, 0.41187325, 0.53725905]])"
      ]
     },
     "execution_count": 111,
     "metadata": {},
     "output_type": "execute_result"
    }
   ],
   "source": [
    "hidden_output_one =  np.dot(input_arr, w0)  # First hidden layer\n",
    "hidden_output_one"
   ]
  },
  {
   "cell_type": "code",
   "execution_count": 112,
   "metadata": {},
   "outputs": [
    {
     "data": {
      "text/plain": [
       "array([[0.49184291],\n",
       "       [0.89907631],\n",
       "       [0.72936046]])"
      ]
     },
     "execution_count": 112,
     "metadata": {},
     "output_type": "execute_result"
    }
   ],
   "source": [
    "hidden_layer_two = np.random.random((units, 1))\n",
    "hidden_layer_two"
   ]
  },
  {
   "cell_type": "code",
   "execution_count": 113,
   "metadata": {},
   "outputs": [
    {
     "data": {
      "text/plain": [
       "array([[1.05276192],\n",
       "       [1.33541787],\n",
       "       [0.43379571],\n",
       "       [0.45596323],\n",
       "       [1.04430907]])"
      ]
     },
     "execution_count": 113,
     "metadata": {},
     "output_type": "execute_result"
    }
   ],
   "source": [
    "output_layer = np.dot(hidden_output_one, hidden_layer_two)\n",
    "output_layer"
   ]
  },
  {
   "cell_type": "markdown",
   "metadata": {},
   "source": [
    "# Learning\n",
    "* Adjust the weights to reduce **the loss function**. The loss is **the difference between the predicted values and the actual values**. \n",
    "* **Less loss is better**\n",
    "* **Gradient** - the derivative of a tensor operation\n",
    "* **Backward Propogation**: A method of adjusting the weights from the boss function based on chaining gradients\n",
    "* **Optimizer** a method based on backprop to optimize net weights"
   ]
  },
  {
   "cell_type": "code",
   "execution_count": 115,
   "metadata": {},
   "outputs": [
    {
     "data": {
      "text/plain": [
       "array([[0.94296024, 0.24186009],\n",
       "       [0.99893227, 0.58269382],\n",
       "       [0.183279  , 0.38684542],\n",
       "       [0.18967353, 0.41077067],\n",
       "       [0.59468007, 0.71658609]])"
      ]
     },
     "execution_count": 115,
     "metadata": {},
     "output_type": "execute_result"
    }
   ],
   "source": [
    "input_arr # 5 X 2"
   ]
  },
  {
   "cell_type": "code",
   "execution_count": 116,
   "metadata": {},
   "outputs": [
    {
     "data": {
      "text/plain": [
       "array([[0.77008977],\n",
       "       [0.37543925]])"
      ]
     },
     "execution_count": 116,
     "metadata": {},
     "output_type": "execute_result"
    }
   ],
   "source": [
    "weights = np.random.random((features, 1))\n",
    "weights"
   ]
  },
  {
   "cell_type": "code",
   "execution_count": 118,
   "metadata": {},
   "outputs": [
    {
     "data": {
      "text/plain": [
       "array([[0.81696781],\n",
       "       [0.98803365],\n",
       "       [0.28637824],\n",
       "       [0.30028508],\n",
       "       [0.72699158]])"
      ]
     },
     "execution_count": 118,
     "metadata": {},
     "output_type": "execute_result"
    }
   ],
   "source": [
    "output_layer = np.dot(input_arr, weights)\n",
    "output_layer"
   ]
  },
  {
   "cell_type": "code",
   "execution_count": 124,
   "metadata": {},
   "outputs": [
    {
     "data": {
      "text/plain": [
       "array([[0.71334021],\n",
       "       [1.08215995],\n",
       "       [0.47848492],\n",
       "       [0.50560744],\n",
       "       [1.01392613]])"
      ]
     },
     "execution_count": 124,
     "metadata": {},
     "output_type": "execute_result"
    }
   ],
   "source": [
    "y = input_arr[:, 0] * 0.5 + input_arr[:, 1] # Labels (target output)\n",
    "y = y.reshape(-1, 1)\n",
    "y"
   ]
  },
  {
   "cell_type": "code",
   "execution_count": 125,
   "metadata": {},
   "outputs": [
    {
     "data": {
      "text/plain": [
       "array([[ 0.1036276 ],\n",
       "       [-0.0941263 ],\n",
       "       [-0.19210668],\n",
       "       [-0.20532236],\n",
       "       [-0.28693454]])"
      ]
     },
     "execution_count": 125,
     "metadata": {},
     "output_type": "execute_result"
    }
   ],
   "source": [
    "errors = output_layer - y # Errors is just difference between the two in vector space\n",
    "errors"
   ]
  },
  {
   "cell_type": "code",
   "execution_count": 126,
   "metadata": {},
   "outputs": [
    {
     "data": {
      "text/plain": [
       "0.036198424473815854"
      ]
     },
     "execution_count": 126,
     "metadata": {},
     "output_type": "execute_result"
    }
   ],
   "source": [
    "mean_square_error = (errors ** 2).mean() # Loss function\n",
    "mean_square_error"
   ]
  },
  {
   "cell_type": "code",
   "execution_count": 138,
   "metadata": {},
   "outputs": [],
   "source": [
    "d = errors * output_layer # Update weights"
   ]
  },
  {
   "cell_type": "code",
   "execution_count": 139,
   "metadata": {},
   "outputs": [],
   "source": [
    "alpha = 0.01 # Learning Rate"
   ]
  },
  {
   "cell_type": "code",
   "execution_count": 142,
   "metadata": {},
   "outputs": [
    {
     "data": {
      "text/plain": [
       "array([[-0.00158896],\n",
       "       [-0.00229802]])"
      ]
     },
     "execution_count": 142,
     "metadata": {},
     "output_type": "execute_result"
    }
   ],
   "source": [
    "u = alpha * np.dot(input_arr.T, d)\n",
    "u # Difference to subtract from weights"
   ]
  },
  {
   "cell_type": "code",
   "execution_count": 145,
   "metadata": {},
   "outputs": [
    {
     "data": {
      "text/plain": [
       "array([[0.7732677 ],\n",
       "       [0.38003529]])"
      ]
     },
     "execution_count": 145,
     "metadata": {},
     "output_type": "execute_result"
    }
   ],
   "source": [
    "weights -= u\n",
    "weights"
   ]
  },
  {
   "cell_type": "code",
   "execution_count": 147,
   "metadata": {},
   "outputs": [
    {
     "data": {
      "text/plain": [
       "array([[ 0.10773586],\n",
       "       [-0.08827368],\n",
       "       [-0.18974628],\n",
       "       [-0.20283167],\n",
       "       [-0.28175123]])"
      ]
     },
     "execution_count": 147,
     "metadata": {},
     "output_type": "execute_result"
    }
   ],
   "source": [
    "output_layer = np.dot(input_arr, weights)\n",
    "errors = output_layer - y\n",
    "errors"
   ]
  },
  {
   "cell_type": "code",
   "execution_count": 148,
   "metadata": {},
   "outputs": [
    {
     "data": {
      "text/plain": [
       "0.03518547039270288"
      ]
     },
     "execution_count": 148,
     "metadata": {},
     "output_type": "execute_result"
    }
   ],
   "source": [
    "mean_square_error = (errors ** 2).mean() # Loss function\n",
    "mean_square_error"
   ]
  },
  {
   "cell_type": "markdown",
   "metadata": {},
   "source": [
    "# Iteration\n",
    "* These are the basic steps - now repeat this over and over and over again until within a certain error tolerance:\n",
    "    1. Take the dot product of input and weights\n",
    "    2. Subtract the output of #1 from the actual values\n",
    "    3. Multiply (element-wise) the error and the output from #1\n",
    "    4. Multiply the dot product of 33 and the input by the learning rate ${\\alpha}$\n",
    "    5. Subtract #4 (element-wise) from the weights vector\n",
    "    6. Repeat 1-5 until the mean square error goes below a threshold or a maximum numbers of steps is reached"
   ]
  },
  {
   "cell_type": "code",
   "execution_count": 5,
   "metadata": {},
   "outputs": [],
   "source": [
    "steps = 400"
   ]
  },
  {
   "cell_type": "code",
   "execution_count": null,
   "metadata": {},
   "outputs": [],
   "source": []
  },
  {
   "cell_type": "code",
   "execution_count": 34,
   "metadata": {},
   "outputs": [],
   "source": []
  },
  {
   "cell_type": "code",
   "execution_count": 37,
   "metadata": {},
   "outputs": [
    {
     "name": "stdout",
     "output_type": "stream",
     "text": [
      "step: 20 | mse=0.08355\n",
      "step: 40 | mse=0.05734\n",
      "step: 60 | mse=0.05213\n",
      "step: 80 | mse=0.04948\n",
      "step:100 | mse=0.04762\n",
      "step:120 | mse=0.04624\n",
      "step:140 | mse=0.04520\n",
      "step:160 | mse=0.04444\n",
      "step:180 | mse=0.04386\n",
      "step:200 | mse=0.04343\n",
      "step:220 | mse=0.04311\n",
      "step:240 | mse=0.04287\n",
      "step:260 | mse=0.04270\n",
      "step:280 | mse=0.04256\n",
      "step:300 | mse=0.04246\n",
      "step:320 | mse=0.04239\n",
      "step:340 | mse=0.04233\n",
      "step:360 | mse=0.04229\n",
      "step:380 | mse=0.04226\n",
      "step:400 | mse=0.04224\n"
     ]
    }
   ],
   "source": [
    "# Basical Neural Net architecture\n",
    "w = np.random.random((features, 1))\n",
    "features = 2\n",
    "samples = 5\n",
    "alpha = 0.025 # Learning Rate\n",
    "y = input_arr[:, 0] * 0.5 + input_arr[:, 1] # Labels (target output)\n",
    "y = y.reshape(-1, 1)\n",
    "input_arr = np.random.random((samples, features))\n",
    "\n",
    "for s in range(1, steps + 1):\n",
    "    output_arr = np.dot(input_arr, w)\n",
    "    error = output_arr - y\n",
    "    d = error\n",
    "    u = alpha * np.dot(input_arr.T, d)\n",
    "    w -= u\n",
    "    mse = (error ** 2).mean()\n",
    "    if s % 20 == 0: # Print every twenty steps\n",
    "        print(f'step:{s:3d} | mse={mse:.5f}')"
   ]
  },
  {
   "cell_type": "markdown",
   "metadata": {},
   "source": [
    "# Activation and Normalization\n",
    "* **Activation** is the transformation of values of layers in a network - two popularl functions are **ReLu** ${max(0, x)}$ and **Sigmoid** ${sig(x) = \\frac{1}{1 + e^{-x}}}$\n",
    "* **Transformation** is the transformation of features/labels - two popular normalizations are to the unit interval or to Gaussian (mean zero, std dev one)\n",
    "* **Sigmoid** transforms all highly negative values to near 0 and all highly positive values to near 1"
   ]
  },
  {
   "cell_type": "code",
   "execution_count": 14,
   "metadata": {},
   "outputs": [],
   "source": [
    "def sigmoid(x, deriv=False):\n",
    "    if deriv:\n",
    "        return sigmoid(x) * (1 - sigmoid(x)) # Rate of change of sigmoid function\n",
    "    return 1 / (1 + np.exp(-x))"
   ]
  },
  {
   "cell_type": "code",
   "execution_count": 48,
   "metadata": {},
   "outputs": [],
   "source": [
    "x = np.linspace(-5, 5, 100)"
   ]
  },
  {
   "cell_type": "code",
   "execution_count": 49,
   "metadata": {},
   "outputs": [
    {
     "data": {
      "text/plain": [
       "<matplotlib.legend.Legend at 0x1203e8fd0>"
      ]
     },
     "execution_count": 49,
     "metadata": {},
     "output_type": "execute_result"
    },
    {
     "data": {
      "image/png": "[encoded data removed]",
      "text/plain": [
       "<Figure size 1440x864 with 1 Axes>"
      ]
     },
     "metadata": {
      "needs_background": "light"
     },
     "output_type": "display_data"
    }
   ],
   "source": [
    "plt.figure(figsize=(20,12))\n",
    "plt.plot(x, np.where(x > 0, 1, 0), 'y--', label='step function')\n",
    "plt.plot(x, sigmoid(x), 'r', label='sigmoid')\n",
    "plt.plot(x, sigmoid(x, True), '--', label='derivative')\n",
    "plt.legend()"
   ]
  },
  {
   "cell_type": "code",
   "execution_count": 3,
   "metadata": {},
   "outputs": [],
   "source": [
    "# Classification Neural Net\n",
    "import numpy as np\n",
    "features = 3\n",
    "samples = 4"
   ]
  },
  {
   "cell_type": "code",
   "execution_count": 10,
   "metadata": {},
   "outputs": [
    {
     "data": {
      "text/plain": [
       "array([[1, 1, 0],\n",
       "       [0, 1, 1],\n",
       "       [1, 1, 1],\n",
       "       [0, 0, 1]])"
      ]
     },
     "execution_count": 10,
     "metadata": {},
     "output_type": "execute_result"
    }
   ],
   "source": [
    "np.random.seed(1)\n",
    "layer_zero = np.random.randint(0, 2, (samples, features)) # One or a zero in shape of third argument\n",
    "layer_zero"
   ]
  },
  {
   "cell_type": "code",
   "execution_count": 12,
   "metadata": {},
   "outputs": [
    {
     "data": {
      "text/plain": [
       "array([[0.18626021],\n",
       "       [0.34556073],\n",
       "       [0.39676747]])"
      ]
     },
     "execution_count": 12,
     "metadata": {},
     "output_type": "execute_result"
    }
   ],
   "source": [
    "weights = np.random.random((features, 1))\n",
    "weights"
   ]
  },
  {
   "cell_type": "code",
   "execution_count": 23,
   "metadata": {},
   "outputs": [
    {
     "data": {
      "text/plain": [
       "array([[1.],\n",
       "       [1.],\n",
       "       [1.],\n",
       "       [1.]])"
      ]
     },
     "execution_count": 23,
     "metadata": {},
     "output_type": "execute_result"
    }
   ],
   "source": [
    "# THIS IS HOW CLASSIFICATION WORKS - EACH CLASS IS GIVEN AN INTEGER VALUE\n",
    "layer_two = sigmoid(np.dot(layer_zero, weights)) \n",
    "layer_two.round() # Hypothesis labels"
   ]
  },
  {
   "cell_type": "code",
   "execution_count": 24,
   "metadata": {},
   "outputs": [
    {
     "data": {
      "text/plain": [
       "array([[1],\n",
       "       [0],\n",
       "       [0],\n",
       "       [1]])"
      ]
     },
     "execution_count": 24,
     "metadata": {},
     "output_type": "execute_result"
    }
   ],
   "source": [
    "y = np.random.randint(0, 2, samples) # True labels\n",
    "y = y.reshape(-1, 1)\n",
    "y"
   ]
  },
  {
   "cell_type": "code",
   "execution_count": 25,
   "metadata": {},
   "outputs": [
    {
     "data": {
      "text/plain": [
       "array([[-0.37009228],\n",
       "       [ 0.67750476],\n",
       "       [ 0.71678882],\n",
       "       [-0.40208924]])"
      ]
     },
     "execution_count": 25,
     "metadata": {},
     "output_type": "execute_result"
    }
   ],
   "source": [
    "error = layer_two - y\n",
    "error"
   ]
  },
  {
   "cell_type": "code",
   "execution_count": 26,
   "metadata": {},
   "outputs": [
    {
     "data": {
      "text/plain": [
       "0.3178607400251155"
      ]
     },
     "execution_count": 26,
     "metadata": {},
     "output_type": "execute_result"
    }
   ],
   "source": [
    "mean_squared_error = (error**2).mean()\n",
    "mean_squared_error"
   ]
  },
  {
   "cell_type": "markdown",
   "metadata": {},
   "source": [
    "# Backward Propogation\n",
    "* Propogate Errors back through the layers using the gradient of the hidden layer"
   ]
  },
  {
   "cell_type": "code",
   "execution_count": 27,
   "metadata": {},
   "outputs": [],
   "source": [
    "alpha = 0.02 # Learning Rate\n",
    "delta = error * sigmoid(layer_two, True) # Propogate the errors to the gradient of the hidden layer"
   ]
  },
  {
   "cell_type": "code",
   "execution_count": 30,
   "metadata": {},
   "outputs": [
    {
     "data": {
      "text/plain": [
       "array([[0.00148194],\n",
       "       [0.00450865],\n",
       "       [0.00434609]])"
      ]
     },
     "execution_count": 30,
     "metadata": {},
     "output_type": "execute_result"
    }
   ],
   "source": [
    "u = alpha * np.dot(layer_zero.T, delta) # Dot of the input and gradient\n",
    "u"
   ]
  },
  {
   "cell_type": "code",
   "execution_count": 32,
   "metadata": {},
   "outputs": [
    {
     "data": {
      "text/plain": [
       "array([[0.18329634],\n",
       "       [0.33654344],\n",
       "       [0.3880753 ]])"
      ]
     },
     "execution_count": 32,
     "metadata": {},
     "output_type": "execute_result"
    }
   ],
   "source": [
    "weights -= u # Finally, learn the adjusted weights from the gradient\n",
    "weights"
   ]
  },
  {
   "cell_type": "code",
   "execution_count": null,
   "metadata": {},
   "outputs": [],
   "source": []
  },
  {
   "cell_type": "code",
   "execution_count": null,
   "metadata": {},
   "outputs": [],
   "source": []
  },
  {
   "cell_type": "code",
   "execution_count": null,
   "metadata": {},
   "outputs": [],
   "source": []
  },
  {
   "cell_type": "code",
   "execution_count": null,
   "metadata": {},
   "outputs": [],
   "source": []
  },
  {
   "cell_type": "code",
   "execution_count": null,
   "metadata": {},
   "outputs": [],
   "source": []
  },
  {
   "cell_type": "markdown",
   "metadata": {},
   "source": [
    "# Efficient Markets Hypothesis\n",
    "* **The prices of financial instruments at a given time reflect all information**\n",
    "* Weak form - The market incorporates all past price and returns information\n",
    "* Semi-Strong form - The market incorporates all public information (Weather, News, Financial Reports)\n",
    "* Strong form - the market also incorporates all private information\n",
    "* If the strong form holds, all technical analysis and quant work is useless\n",
    "* If we are truly in a random walk, then the best predictor of tomorrow's stock price (in an OLS sense) is today's stock price\n",
    "* Let's test this! Take daily returns data, give it n number of lags, and use it as a predictor ${x}$ for today's data as ${y}$"
   ]
  },
  {
   "cell_type": "code",
   "execution_count": 2,
   "metadata": {},
   "outputs": [],
   "source": [
    "import numpy as np\n",
    "import pandas as pd\n",
    "from pylab import plt\n",
    "plt.style.use('seaborn')\n",
    "pd.set_option('precision', 4)\n",
    "%matplotlib inline"
   ]
  },
  {
   "cell_type": "code",
   "execution_count": 3,
   "metadata": {},
   "outputs": [],
   "source": [
    "url = 'http://hilpisch.com/aiif_eikon_eod_data.csv'"
   ]
  },
  {
   "cell_type": "code",
   "execution_count": 4,
   "metadata": {},
   "outputs": [
    {
     "data": {
      "text/html": [
       "<div>\n",
       "<style scoped>\n",
       "    .dataframe tbody tr th:only-of-type {\n",
       "        vertical-align: middle;\n",
       "    }\n",
       "\n",
       "    .dataframe tbody tr th {\n",
       "        vertical-align: top;\n",
       "    }\n",
       "\n",
       "    .dataframe thead th {\n",
       "        text-align: right;\n",
       "    }\n",
       "</style>\n",
       "<table border=\"1\" class=\"dataframe\">\n",
       "  <thead>\n",
       "    <tr style=\"text-align: right;\">\n",
       "      <th></th>\n",
       "      <th>AAPL.O</th>\n",
       "      <th>MSFT.O</th>\n",
       "      <th>INTC.O</th>\n",
       "      <th>AMZN.O</th>\n",
       "      <th>GS.N</th>\n",
       "      <th>SPY</th>\n",
       "      <th>.SPX</th>\n",
       "      <th>.VIX</th>\n",
       "      <th>EUR=</th>\n",
       "      <th>XAU=</th>\n",
       "      <th>GDX</th>\n",
       "      <th>GLD</th>\n",
       "    </tr>\n",
       "    <tr>\n",
       "      <th>Date</th>\n",
       "      <th></th>\n",
       "      <th></th>\n",
       "      <th></th>\n",
       "      <th></th>\n",
       "      <th></th>\n",
       "      <th></th>\n",
       "      <th></th>\n",
       "      <th></th>\n",
       "      <th></th>\n",
       "      <th></th>\n",
       "      <th></th>\n",
       "      <th></th>\n",
       "    </tr>\n",
       "  </thead>\n",
       "  <tbody>\n",
       "    <tr>\n",
       "      <th>2010-01-04</th>\n",
       "      <td>30.5728</td>\n",
       "      <td>30.950</td>\n",
       "      <td>20.88</td>\n",
       "      <td>133.90</td>\n",
       "      <td>173.08</td>\n",
       "      <td>113.33</td>\n",
       "      <td>1132.99</td>\n",
       "      <td>20.04</td>\n",
       "      <td>1.4411</td>\n",
       "      <td>1120.00</td>\n",
       "      <td>47.71</td>\n",
       "      <td>109.80</td>\n",
       "    </tr>\n",
       "    <tr>\n",
       "      <th>2010-01-05</th>\n",
       "      <td>30.6257</td>\n",
       "      <td>30.960</td>\n",
       "      <td>20.87</td>\n",
       "      <td>134.69</td>\n",
       "      <td>176.14</td>\n",
       "      <td>113.63</td>\n",
       "      <td>1136.52</td>\n",
       "      <td>19.35</td>\n",
       "      <td>1.4368</td>\n",
       "      <td>1118.65</td>\n",
       "      <td>48.17</td>\n",
       "      <td>109.70</td>\n",
       "    </tr>\n",
       "    <tr>\n",
       "      <th>2010-01-06</th>\n",
       "      <td>30.1385</td>\n",
       "      <td>30.770</td>\n",
       "      <td>20.80</td>\n",
       "      <td>132.25</td>\n",
       "      <td>174.26</td>\n",
       "      <td>113.71</td>\n",
       "      <td>1137.14</td>\n",
       "      <td>19.16</td>\n",
       "      <td>1.4412</td>\n",
       "      <td>1138.50</td>\n",
       "      <td>49.34</td>\n",
       "      <td>111.51</td>\n",
       "    </tr>\n",
       "    <tr>\n",
       "      <th>2010-01-07</th>\n",
       "      <td>30.0828</td>\n",
       "      <td>30.452</td>\n",
       "      <td>20.60</td>\n",
       "      <td>130.00</td>\n",
       "      <td>177.67</td>\n",
       "      <td>114.19</td>\n",
       "      <td>1141.69</td>\n",
       "      <td>19.06</td>\n",
       "      <td>1.4318</td>\n",
       "      <td>1131.90</td>\n",
       "      <td>49.10</td>\n",
       "      <td>110.82</td>\n",
       "    </tr>\n",
       "    <tr>\n",
       "      <th>2010-01-08</th>\n",
       "      <td>30.2828</td>\n",
       "      <td>30.660</td>\n",
       "      <td>20.83</td>\n",
       "      <td>133.52</td>\n",
       "      <td>174.31</td>\n",
       "      <td>114.57</td>\n",
       "      <td>1144.98</td>\n",
       "      <td>18.13</td>\n",
       "      <td>1.4412</td>\n",
       "      <td>1136.10</td>\n",
       "      <td>49.84</td>\n",
       "      <td>111.37</td>\n",
       "    </tr>\n",
       "  </tbody>\n",
       "</table>\n",
       "</div>"
      ],
      "text/plain": [
       "             AAPL.O  MSFT.O  INTC.O  AMZN.O    GS.N     SPY     .SPX   .VIX  \\\n",
       "Date                                                                          \n",
       "2010-01-04  30.5728  30.950   20.88  133.90  173.08  113.33  1132.99  20.04   \n",
       "2010-01-05  30.6257  30.960   20.87  134.69  176.14  113.63  1136.52  19.35   \n",
       "2010-01-06  30.1385  30.770   20.80  132.25  174.26  113.71  1137.14  19.16   \n",
       "2010-01-07  30.0828  30.452   20.60  130.00  177.67  114.19  1141.69  19.06   \n",
       "2010-01-08  30.2828  30.660   20.83  133.52  174.31  114.57  1144.98  18.13   \n",
       "\n",
       "              EUR=     XAU=    GDX     GLD  \n",
       "Date                                        \n",
       "2010-01-04  1.4411  1120.00  47.71  109.80  \n",
       "2010-01-05  1.4368  1118.65  48.17  109.70  \n",
       "2010-01-06  1.4412  1138.50  49.34  111.51  \n",
       "2010-01-07  1.4318  1131.90  49.10  110.82  \n",
       "2010-01-08  1.4412  1136.10  49.84  111.37  "
      ]
     },
     "execution_count": 4,
     "metadata": {},
     "output_type": "execute_result"
    }
   ],
   "source": [
    "data = pd.read_csv(url, index_col=0, parse_dates=True).dropna()\n",
    "data.head()"
   ]
  },
  {
   "cell_type": "code",
   "execution_count": 4,
   "metadata": {},
   "outputs": [
    {
     "data": {
      "text/plain": [
       "<matplotlib.axes._subplots.AxesSubplot at 0x106c88ef0>"
      ]
     },
     "execution_count": 4,
     "metadata": {},
     "output_type": "execute_result"
    },
    {
     "data": {
      "image/png": "[encoded data removed]",
      "text/plain": [
       "<Figure size 1440x864 with 1 Axes>"
      ]
     },
     "metadata": {
      "needs_background": "light"
     },
     "output_type": "display_data"
    }
   ],
   "source": [
    "(data / data.iloc[0]).plot(figsize=(20,12), cmap='coolwarm') # that divison is so every security starts from 1"
   ]
  },
  {
   "cell_type": "code",
   "execution_count": 5,
   "metadata": {},
   "outputs": [],
   "source": [
    "lags = 7\n",
    "# Lag the time series by n number of days\n",
    "def add_lags(data, ric, lags):\n",
    "    cols = []\n",
    "    df = pd.DataFrame(data[ric])\n",
    "    for lag in range(1, lags+1):\n",
    "        col = 'lag_{}'.format(lag) \n",
    "        df[col] = data[ric].shift(lag) # Create a lagged version and add it the dataframe\n",
    "        cols.append(col) # Add the lagged column to a list of lags on its own\n",
    "    df.dropna(inplace=True)\n",
    "    return df, cols # Return a tuple of the df with lags and the independent dictionary"
   ]
  },
  {
   "cell_type": "code",
   "execution_count": 6,
   "metadata": {},
   "outputs": [],
   "source": [
    "dfs = {}\n",
    "for sym in data.columns:\n",
    "    df, cols = add_lags(data, sym, lags)\n",
    "    dfs[sym] = df"
   ]
  },
  {
   "cell_type": "code",
   "execution_count": null,
   "metadata": {},
   "outputs": [],
   "source": []
  },
  {
   "cell_type": "markdown",
   "metadata": {},
   "source": [
    "# Regression by Lags\n",
    "* Now let's take this set of lags and fit an OLS regression of degree=lags on the symbol data"
   ]
  },
  {
   "cell_type": "code",
   "execution_count": 7,
   "metadata": {},
   "outputs": [],
   "source": [
    "regs = {}\n",
    "for sym in data.columns:\n",
    "    df = dfs[sym]\n",
    "    reg = np.linalg.lstsq(df[cols], df[sym], rcond=-1)[0] # Find optimal weights for all lags to minimize L2 norm\n",
    "    regs[sym] = reg"
   ]
  },
  {
   "cell_type": "markdown",
   "metadata": {},
   "source": [
    "# Flattening Dataframes to Re-add them\n",
    "* **Use np.stack on df.values()**"
   ]
  },
  {
   "cell_type": "code",
   "execution_count": 8,
   "metadata": {},
   "outputs": [
    {
     "data": {
      "text/plain": [
       "(12, 7)"
      ]
     },
     "execution_count": 8,
     "metadata": {},
     "output_type": "execute_result"
    }
   ],
   "source": [
    "rega = np.stack(tuple(regs.values())) # Combine optimal results into a single ndArray\n",
    "rega.shape # 12 securities, 7 lags"
   ]
  },
  {
   "cell_type": "code",
   "execution_count": 9,
   "metadata": {},
   "outputs": [
    {
     "data": {
      "text/html": [
       "<div>\n",
       "<style scoped>\n",
       "    .dataframe tbody tr th:only-of-type {\n",
       "        vertical-align: middle;\n",
       "    }\n",
       "\n",
       "    .dataframe tbody tr th {\n",
       "        vertical-align: top;\n",
       "    }\n",
       "\n",
       "    .dataframe thead th {\n",
       "        text-align: right;\n",
       "    }\n",
       "</style>\n",
       "<table border=\"1\" class=\"dataframe\">\n",
       "  <thead>\n",
       "    <tr style=\"text-align: right;\">\n",
       "      <th></th>\n",
       "      <th>lag_1</th>\n",
       "      <th>lag_2</th>\n",
       "      <th>lag_3</th>\n",
       "      <th>lag_4</th>\n",
       "      <th>lag_5</th>\n",
       "      <th>lag_6</th>\n",
       "      <th>lag_7</th>\n",
       "    </tr>\n",
       "  </thead>\n",
       "  <tbody>\n",
       "    <tr>\n",
       "      <th>AAPL.O</th>\n",
       "      <td>1.0106</td>\n",
       "      <td>-0.0592</td>\n",
       "      <td>0.0258</td>\n",
       "      <td>0.0535</td>\n",
       "      <td>-0.0172</td>\n",
       "      <td>0.0060</td>\n",
       "      <td>-0.0184</td>\n",
       "    </tr>\n",
       "    <tr>\n",
       "      <th>MSFT.O</th>\n",
       "      <td>0.8928</td>\n",
       "      <td>0.0112</td>\n",
       "      <td>0.1175</td>\n",
       "      <td>-0.0832</td>\n",
       "      <td>-0.0258</td>\n",
       "      <td>0.0567</td>\n",
       "      <td>0.0323</td>\n",
       "    </tr>\n",
       "    <tr>\n",
       "      <th>INTC.O</th>\n",
       "      <td>0.9519</td>\n",
       "      <td>0.0579</td>\n",
       "      <td>0.0490</td>\n",
       "      <td>-0.0772</td>\n",
       "      <td>-0.0373</td>\n",
       "      <td>0.0449</td>\n",
       "      <td>0.0112</td>\n",
       "    </tr>\n",
       "    <tr>\n",
       "      <th>AMZN.O</th>\n",
       "      <td>0.9799</td>\n",
       "      <td>-0.0134</td>\n",
       "      <td>0.0206</td>\n",
       "      <td>0.0007</td>\n",
       "      <td>0.0525</td>\n",
       "      <td>-0.0452</td>\n",
       "      <td>0.0056</td>\n",
       "    </tr>\n",
       "    <tr>\n",
       "      <th>GS.N</th>\n",
       "      <td>0.9806</td>\n",
       "      <td>0.0342</td>\n",
       "      <td>-0.0172</td>\n",
       "      <td>0.0042</td>\n",
       "      <td>-0.0387</td>\n",
       "      <td>0.0585</td>\n",
       "      <td>-0.0215</td>\n",
       "    </tr>\n",
       "    <tr>\n",
       "      <th>SPY</th>\n",
       "      <td>0.9692</td>\n",
       "      <td>0.0067</td>\n",
       "      <td>0.0228</td>\n",
       "      <td>-0.0244</td>\n",
       "      <td>-0.0237</td>\n",
       "      <td>0.0379</td>\n",
       "      <td>0.0121</td>\n",
       "    </tr>\n",
       "    <tr>\n",
       "      <th>.SPX</th>\n",
       "      <td>0.9672</td>\n",
       "      <td>0.0106</td>\n",
       "      <td>0.0219</td>\n",
       "      <td>-0.0252</td>\n",
       "      <td>-0.0318</td>\n",
       "      <td>0.0515</td>\n",
       "      <td>0.0063</td>\n",
       "    </tr>\n",
       "    <tr>\n",
       "      <th>.VIX</th>\n",
       "      <td>0.8823</td>\n",
       "      <td>0.0591</td>\n",
       "      <td>-0.0289</td>\n",
       "      <td>0.0284</td>\n",
       "      <td>-0.0256</td>\n",
       "      <td>0.0511</td>\n",
       "      <td>0.0306</td>\n",
       "    </tr>\n",
       "    <tr>\n",
       "      <th>EUR=</th>\n",
       "      <td>0.9859</td>\n",
       "      <td>0.0239</td>\n",
       "      <td>-0.0484</td>\n",
       "      <td>0.0508</td>\n",
       "      <td>-0.0217</td>\n",
       "      <td>0.0149</td>\n",
       "      <td>-0.0055</td>\n",
       "    </tr>\n",
       "    <tr>\n",
       "      <th>XAU=</th>\n",
       "      <td>0.9864</td>\n",
       "      <td>0.0069</td>\n",
       "      <td>0.0166</td>\n",
       "      <td>-0.0215</td>\n",
       "      <td>0.0044</td>\n",
       "      <td>0.0198</td>\n",
       "      <td>-0.0125</td>\n",
       "    </tr>\n",
       "    <tr>\n",
       "      <th>GDX</th>\n",
       "      <td>0.9765</td>\n",
       "      <td>0.0096</td>\n",
       "      <td>-0.0039</td>\n",
       "      <td>0.0223</td>\n",
       "      <td>-0.0364</td>\n",
       "      <td>0.0379</td>\n",
       "      <td>-0.0065</td>\n",
       "    </tr>\n",
       "    <tr>\n",
       "      <th>GLD</th>\n",
       "      <td>0.9766</td>\n",
       "      <td>0.0246</td>\n",
       "      <td>0.0060</td>\n",
       "      <td>-0.0142</td>\n",
       "      <td>-0.0047</td>\n",
       "      <td>0.0223</td>\n",
       "      <td>-0.0106</td>\n",
       "    </tr>\n",
       "  </tbody>\n",
       "</table>\n",
       "</div>"
      ],
      "text/plain": [
       "         lag_1   lag_2   lag_3   lag_4   lag_5   lag_6   lag_7\n",
       "AAPL.O  1.0106 -0.0592  0.0258  0.0535 -0.0172  0.0060 -0.0184\n",
       "MSFT.O  0.8928  0.0112  0.1175 -0.0832 -0.0258  0.0567  0.0323\n",
       "INTC.O  0.9519  0.0579  0.0490 -0.0772 -0.0373  0.0449  0.0112\n",
       "AMZN.O  0.9799 -0.0134  0.0206  0.0007  0.0525 -0.0452  0.0056\n",
       "GS.N    0.9806  0.0342 -0.0172  0.0042 -0.0387  0.0585 -0.0215\n",
       "SPY     0.9692  0.0067  0.0228 -0.0244 -0.0237  0.0379  0.0121\n",
       ".SPX    0.9672  0.0106  0.0219 -0.0252 -0.0318  0.0515  0.0063\n",
       ".VIX    0.8823  0.0591 -0.0289  0.0284 -0.0256  0.0511  0.0306\n",
       "EUR=    0.9859  0.0239 -0.0484  0.0508 -0.0217  0.0149 -0.0055\n",
       "XAU=    0.9864  0.0069  0.0166 -0.0215  0.0044  0.0198 -0.0125\n",
       "GDX     0.9765  0.0096 -0.0039  0.0223 -0.0364  0.0379 -0.0065\n",
       "GLD     0.9766  0.0246  0.0060 -0.0142 -0.0047  0.0223 -0.0106"
      ]
     },
     "execution_count": 9,
     "metadata": {},
     "output_type": "execute_result"
    }
   ],
   "source": [
    "regd = pd.DataFrame(rega, columns=cols, index=data.columns)\n",
    "regd"
   ]
  },
  {
   "cell_type": "code",
   "execution_count": 10,
   "metadata": {},
   "outputs": [
    {
     "data": {
      "text/plain": [
       "<matplotlib.axes._subplots.AxesSubplot at 0x1198fa860>"
      ]
     },
     "execution_count": 10,
     "metadata": {},
     "output_type": "execute_result"
    },
    {
     "data": {
      "image/png": "[encoded data removed]",
      "text/plain": [
       "<Figure size 1440x864 with 1 Axes>"
      ]
     },
     "metadata": {
      "needs_background": "light"
     },
     "output_type": "display_data"
    }
   ],
   "source": [
    "regd.mean().plot(kind='bar', figsize=(20, 12)) # .plot() take kind as kwarg for type of chart"
   ]
  },
  {
   "cell_type": "code",
   "execution_count": 11,
   "metadata": {},
   "outputs": [
    {
     "data": {
      "text/html": [
       "<div>\n",
       "<style scoped>\n",
       "    .dataframe tbody tr th:only-of-type {\n",
       "        vertical-align: middle;\n",
       "    }\n",
       "\n",
       "    .dataframe tbody tr th {\n",
       "        vertical-align: top;\n",
       "    }\n",
       "\n",
       "    .dataframe thead th {\n",
       "        text-align: right;\n",
       "    }\n",
       "</style>\n",
       "<table border=\"1\" class=\"dataframe\">\n",
       "  <thead>\n",
       "    <tr style=\"text-align: right;\">\n",
       "      <th></th>\n",
       "      <th>GLD</th>\n",
       "      <th>lag_1</th>\n",
       "      <th>lag_2</th>\n",
       "      <th>lag_3</th>\n",
       "      <th>lag_4</th>\n",
       "      <th>lag_5</th>\n",
       "      <th>lag_6</th>\n",
       "      <th>lag_7</th>\n",
       "    </tr>\n",
       "  </thead>\n",
       "  <tbody>\n",
       "    <tr>\n",
       "      <th>GLD</th>\n",
       "      <td>1.0000</td>\n",
       "      <td>0.9972</td>\n",
       "      <td>0.9946</td>\n",
       "      <td>0.9920</td>\n",
       "      <td>0.9893</td>\n",
       "      <td>0.9867</td>\n",
       "      <td>0.9841</td>\n",
       "      <td>0.9815</td>\n",
       "    </tr>\n",
       "    <tr>\n",
       "      <th>lag_1</th>\n",
       "      <td>0.9972</td>\n",
       "      <td>1.0000</td>\n",
       "      <td>0.9972</td>\n",
       "      <td>0.9946</td>\n",
       "      <td>0.9920</td>\n",
       "      <td>0.9893</td>\n",
       "      <td>0.9867</td>\n",
       "      <td>0.9842</td>\n",
       "    </tr>\n",
       "    <tr>\n",
       "      <th>lag_2</th>\n",
       "      <td>0.9946</td>\n",
       "      <td>0.9972</td>\n",
       "      <td>1.0000</td>\n",
       "      <td>0.9972</td>\n",
       "      <td>0.9946</td>\n",
       "      <td>0.9920</td>\n",
       "      <td>0.9893</td>\n",
       "      <td>0.9867</td>\n",
       "    </tr>\n",
       "    <tr>\n",
       "      <th>lag_3</th>\n",
       "      <td>0.9920</td>\n",
       "      <td>0.9946</td>\n",
       "      <td>0.9972</td>\n",
       "      <td>1.0000</td>\n",
       "      <td>0.9972</td>\n",
       "      <td>0.9946</td>\n",
       "      <td>0.9920</td>\n",
       "      <td>0.9893</td>\n",
       "    </tr>\n",
       "    <tr>\n",
       "      <th>lag_4</th>\n",
       "      <td>0.9893</td>\n",
       "      <td>0.9920</td>\n",
       "      <td>0.9946</td>\n",
       "      <td>0.9972</td>\n",
       "      <td>1.0000</td>\n",
       "      <td>0.9972</td>\n",
       "      <td>0.9946</td>\n",
       "      <td>0.9920</td>\n",
       "    </tr>\n",
       "    <tr>\n",
       "      <th>lag_5</th>\n",
       "      <td>0.9867</td>\n",
       "      <td>0.9893</td>\n",
       "      <td>0.9920</td>\n",
       "      <td>0.9946</td>\n",
       "      <td>0.9972</td>\n",
       "      <td>1.0000</td>\n",
       "      <td>0.9972</td>\n",
       "      <td>0.9946</td>\n",
       "    </tr>\n",
       "    <tr>\n",
       "      <th>lag_6</th>\n",
       "      <td>0.9841</td>\n",
       "      <td>0.9867</td>\n",
       "      <td>0.9893</td>\n",
       "      <td>0.9920</td>\n",
       "      <td>0.9946</td>\n",
       "      <td>0.9972</td>\n",
       "      <td>1.0000</td>\n",
       "      <td>0.9972</td>\n",
       "    </tr>\n",
       "    <tr>\n",
       "      <th>lag_7</th>\n",
       "      <td>0.9815</td>\n",
       "      <td>0.9842</td>\n",
       "      <td>0.9867</td>\n",
       "      <td>0.9893</td>\n",
       "      <td>0.9920</td>\n",
       "      <td>0.9946</td>\n",
       "      <td>0.9972</td>\n",
       "      <td>1.0000</td>\n",
       "    </tr>\n",
       "  </tbody>\n",
       "</table>\n",
       "</div>"
      ],
      "text/plain": [
       "          GLD   lag_1   lag_2   lag_3   lag_4   lag_5   lag_6   lag_7\n",
       "GLD    1.0000  0.9972  0.9946  0.9920  0.9893  0.9867  0.9841  0.9815\n",
       "lag_1  0.9972  1.0000  0.9972  0.9946  0.9920  0.9893  0.9867  0.9842\n",
       "lag_2  0.9946  0.9972  1.0000  0.9972  0.9946  0.9920  0.9893  0.9867\n",
       "lag_3  0.9920  0.9946  0.9972  1.0000  0.9972  0.9946  0.9920  0.9893\n",
       "lag_4  0.9893  0.9920  0.9946  0.9972  1.0000  0.9972  0.9946  0.9920\n",
       "lag_5  0.9867  0.9893  0.9920  0.9946  0.9972  1.0000  0.9972  0.9946\n",
       "lag_6  0.9841  0.9867  0.9893  0.9920  0.9946  0.9972  1.0000  0.9972\n",
       "lag_7  0.9815  0.9842  0.9867  0.9893  0.9920  0.9946  0.9972  1.0000"
      ]
     },
     "execution_count": 11,
     "metadata": {},
     "output_type": "execute_result"
    }
   ],
   "source": [
    "dfs[sym].corr() # Lags are highly correlated with each other"
   ]
  },
  {
   "cell_type": "code",
   "execution_count": 12,
   "metadata": {},
   "outputs": [
    {
     "data": {
      "text/plain": [
       "(-1.9488969577009931,\n",
       " 0.3094193074034729,\n",
       " 0,\n",
       " 2515,\n",
       " {'1%': -3.4329527780962255,\n",
       "  '5%': -2.8626898965523724,\n",
       "  '10%': -2.567382133955709},\n",
       " 8446.683102944744)"
      ]
     },
     "execution_count": 12,
     "metadata": {},
     "output_type": "execute_result"
    }
   ],
   "source": [
    "# Dickey Fuller test for stationarity of this data\n",
    "from statsmodels.tsa.stattools import adfuller\n",
    "adfuller(data[sym].dropna())"
   ]
  },
  {
   "cell_type": "markdown",
   "metadata": {},
   "source": [
    "# Market Predictions from Returns Data\n",
    "* Can we apply machine learning and deep learning to finance?\n",
    "* Let's compare OLS to neural networks - we're looking for **statistical inefficiencies** in the data - rather than *economic inefficiencies*\n",
    "* First, create lagged log returns"
   ]
  },
  {
   "cell_type": "code",
   "execution_count": 13,
   "metadata": {},
   "outputs": [],
   "source": [
    "returns = np.log(data/data.shift(1))\n",
    "returns.dropna(inplace=True)"
   ]
  },
  {
   "cell_type": "code",
   "execution_count": 14,
   "metadata": {},
   "outputs": [],
   "source": [
    "dfs = {}\n",
    "for sym in data:\n",
    "    df, cols = add_lags(returns, sym, lags) # Lags on log returns here - so the 01/20 return is lag1 of 01/21\n",
    "    mu, std = df[cols].mean(), df[cols].std()\n",
    "    df[cols]= (df[cols] - mu)/ std # Gaussian normalization \n",
    "    dfs[sym] = df"
   ]
  },
  {
   "cell_type": "code",
   "execution_count": 15,
   "metadata": {},
   "outputs": [
    {
     "data": {
      "text/html": [
       "<div>\n",
       "<style scoped>\n",
       "    .dataframe tbody tr th:only-of-type {\n",
       "        vertical-align: middle;\n",
       "    }\n",
       "\n",
       "    .dataframe tbody tr th {\n",
       "        vertical-align: top;\n",
       "    }\n",
       "\n",
       "    .dataframe thead th {\n",
       "        text-align: right;\n",
       "    }\n",
       "</style>\n",
       "<table border=\"1\" class=\"dataframe\">\n",
       "  <thead>\n",
       "    <tr style=\"text-align: right;\">\n",
       "      <th></th>\n",
       "      <th>AAPL.O</th>\n",
       "      <th>lag_1</th>\n",
       "      <th>lag_2</th>\n",
       "      <th>lag_3</th>\n",
       "      <th>lag_4</th>\n",
       "      <th>lag_5</th>\n",
       "      <th>lag_6</th>\n",
       "      <th>lag_7</th>\n",
       "    </tr>\n",
       "    <tr>\n",
       "      <th>Date</th>\n",
       "      <th></th>\n",
       "      <th></th>\n",
       "      <th></th>\n",
       "      <th></th>\n",
       "      <th></th>\n",
       "      <th></th>\n",
       "      <th></th>\n",
       "      <th></th>\n",
       "    </tr>\n",
       "  </thead>\n",
       "  <tbody>\n",
       "    <tr>\n",
       "      <th>2010-01-14</th>\n",
       "      <td>-0.0058</td>\n",
       "      <td>0.8050</td>\n",
       "      <td>-0.7587</td>\n",
       "      <td>-0.5999</td>\n",
       "      <td>0.3523</td>\n",
       "      <td>-0.1687</td>\n",
       "      <td>-1.0398</td>\n",
       "      <td>0.0519</td>\n",
       "    </tr>\n",
       "    <tr>\n",
       "      <th>2010-01-15</th>\n",
       "      <td>-0.0169</td>\n",
       "      <td>-0.4130</td>\n",
       "      <td>0.8053</td>\n",
       "      <td>-0.7584</td>\n",
       "      <td>-0.5997</td>\n",
       "      <td>0.3523</td>\n",
       "      <td>-0.1679</td>\n",
       "      <td>-1.0399</td>\n",
       "    </tr>\n",
       "    <tr>\n",
       "      <th>2010-01-19</th>\n",
       "      <td>0.0433</td>\n",
       "      <td>-1.0919</td>\n",
       "      <td>-0.4126</td>\n",
       "      <td>0.8055</td>\n",
       "      <td>-0.7583</td>\n",
       "      <td>-0.5996</td>\n",
       "      <td>0.3531</td>\n",
       "      <td>-0.1680</td>\n",
       "    </tr>\n",
       "    <tr>\n",
       "      <th>2010-01-20</th>\n",
       "      <td>-0.0155</td>\n",
       "      <td>2.6047</td>\n",
       "      <td>-1.0914</td>\n",
       "      <td>-0.4123</td>\n",
       "      <td>0.8060</td>\n",
       "      <td>-0.7582</td>\n",
       "      <td>-0.5988</td>\n",
       "      <td>0.3530</td>\n",
       "    </tr>\n",
       "    <tr>\n",
       "      <th>2010-01-21</th>\n",
       "      <td>-0.0174</td>\n",
       "      <td>-1.0109</td>\n",
       "      <td>2.6049</td>\n",
       "      <td>-1.0911</td>\n",
       "      <td>-0.4121</td>\n",
       "      <td>0.8060</td>\n",
       "      <td>-0.7574</td>\n",
       "      <td>-0.5989</td>\n",
       "    </tr>\n",
       "  </tbody>\n",
       "</table>\n",
       "</div>"
      ],
      "text/plain": [
       "            AAPL.O   lag_1   lag_2   lag_3   lag_4   lag_5   lag_6   lag_7\n",
       "Date                                                                      \n",
       "2010-01-14 -0.0058  0.8050 -0.7587 -0.5999  0.3523 -0.1687 -1.0398  0.0519\n",
       "2010-01-15 -0.0169 -0.4130  0.8053 -0.7584 -0.5997  0.3523 -0.1679 -1.0399\n",
       "2010-01-19  0.0433 -1.0919 -0.4126  0.8055 -0.7583 -0.5996  0.3531 -0.1680\n",
       "2010-01-20 -0.0155  2.6047 -1.0914 -0.4123  0.8060 -0.7582 -0.5988  0.3530\n",
       "2010-01-21 -0.0174 -1.0109  2.6049 -1.0911 -0.4121  0.8060 -0.7574 -0.5989"
      ]
     },
     "execution_count": 15,
     "metadata": {},
     "output_type": "execute_result"
    }
   ],
   "source": [
    "dfs['AAPL.O'].head()"
   ]
  },
  {
   "cell_type": "code",
   "execution_count": 16,
   "metadata": {},
   "outputs": [
    {
     "data": {
      "text/plain": [
       "(-51.56825150582552,\n",
       " 0.0,\n",
       " 0,\n",
       " 2507,\n",
       " {'1%': -3.4329610922579095,\n",
       "  '5%': -2.8626935681060375,\n",
       "  '10%': -2.567384088736619},\n",
       " 7017.165474260225)"
      ]
     },
     "execution_count": 16,
     "metadata": {},
     "output_type": "execute_result"
    }
   ],
   "source": [
    "adfuller(dfs[sym]['lag_1']) # Data is very not stationary"
   ]
  },
  {
   "cell_type": "code",
   "execution_count": 17,
   "metadata": {},
   "outputs": [
    {
     "data": {
      "text/html": [
       "<div>\n",
       "<style scoped>\n",
       "    .dataframe tbody tr th:only-of-type {\n",
       "        vertical-align: middle;\n",
       "    }\n",
       "\n",
       "    .dataframe tbody tr th {\n",
       "        vertical-align: top;\n",
       "    }\n",
       "\n",
       "    .dataframe thead th {\n",
       "        text-align: right;\n",
       "    }\n",
       "</style>\n",
       "<table border=\"1\" class=\"dataframe\">\n",
       "  <thead>\n",
       "    <tr style=\"text-align: right;\">\n",
       "      <th></th>\n",
       "      <th>GLD</th>\n",
       "      <th>lag_1</th>\n",
       "      <th>lag_2</th>\n",
       "      <th>lag_3</th>\n",
       "      <th>lag_4</th>\n",
       "      <th>lag_5</th>\n",
       "      <th>lag_6</th>\n",
       "      <th>lag_7</th>\n",
       "    </tr>\n",
       "  </thead>\n",
       "  <tbody>\n",
       "    <tr>\n",
       "      <th>GLD</th>\n",
       "      <td>1.0000</td>\n",
       "      <td>-0.0297</td>\n",
       "      <td>0.0003</td>\n",
       "      <td>1.2635e-02</td>\n",
       "      <td>-0.0026</td>\n",
       "      <td>-5.9392e-03</td>\n",
       "      <td>0.0099</td>\n",
       "      <td>-0.0013</td>\n",
       "    </tr>\n",
       "    <tr>\n",
       "      <th>lag_1</th>\n",
       "      <td>-0.0297</td>\n",
       "      <td>1.0000</td>\n",
       "      <td>-0.0305</td>\n",
       "      <td>8.1418e-04</td>\n",
       "      <td>0.0128</td>\n",
       "      <td>-2.8765e-03</td>\n",
       "      <td>-0.0053</td>\n",
       "      <td>0.0098</td>\n",
       "    </tr>\n",
       "    <tr>\n",
       "      <th>lag_2</th>\n",
       "      <td>0.0003</td>\n",
       "      <td>-0.0305</td>\n",
       "      <td>1.0000</td>\n",
       "      <td>-3.1617e-02</td>\n",
       "      <td>0.0003</td>\n",
       "      <td>1.3234e-02</td>\n",
       "      <td>-0.0043</td>\n",
       "      <td>-0.0052</td>\n",
       "    </tr>\n",
       "    <tr>\n",
       "      <th>lag_3</th>\n",
       "      <td>0.0126</td>\n",
       "      <td>0.0008</td>\n",
       "      <td>-0.0316</td>\n",
       "      <td>1.0000e+00</td>\n",
       "      <td>-0.0313</td>\n",
       "      <td>-6.8542e-06</td>\n",
       "      <td>0.0141</td>\n",
       "      <td>-0.0044</td>\n",
       "    </tr>\n",
       "    <tr>\n",
       "      <th>lag_4</th>\n",
       "      <td>-0.0026</td>\n",
       "      <td>0.0128</td>\n",
       "      <td>0.0003</td>\n",
       "      <td>-3.1329e-02</td>\n",
       "      <td>1.0000</td>\n",
       "      <td>-3.1761e-02</td>\n",
       "      <td>0.0002</td>\n",
       "      <td>0.0141</td>\n",
       "    </tr>\n",
       "    <tr>\n",
       "      <th>lag_5</th>\n",
       "      <td>-0.0059</td>\n",
       "      <td>-0.0029</td>\n",
       "      <td>0.0132</td>\n",
       "      <td>-6.8542e-06</td>\n",
       "      <td>-0.0318</td>\n",
       "      <td>1.0000e+00</td>\n",
       "      <td>-0.0323</td>\n",
       "      <td>0.0002</td>\n",
       "    </tr>\n",
       "    <tr>\n",
       "      <th>lag_6</th>\n",
       "      <td>0.0099</td>\n",
       "      <td>-0.0053</td>\n",
       "      <td>-0.0043</td>\n",
       "      <td>1.4115e-02</td>\n",
       "      <td>0.0002</td>\n",
       "      <td>-3.2289e-02</td>\n",
       "      <td>1.0000</td>\n",
       "      <td>-0.0324</td>\n",
       "    </tr>\n",
       "    <tr>\n",
       "      <th>lag_7</th>\n",
       "      <td>-0.0013</td>\n",
       "      <td>0.0098</td>\n",
       "      <td>-0.0052</td>\n",
       "      <td>-4.3869e-03</td>\n",
       "      <td>0.0141</td>\n",
       "      <td>2.1707e-04</td>\n",
       "      <td>-0.0324</td>\n",
       "      <td>1.0000</td>\n",
       "    </tr>\n",
       "  </tbody>\n",
       "</table>\n",
       "</div>"
      ],
      "text/plain": [
       "          GLD   lag_1   lag_2       lag_3   lag_4       lag_5   lag_6   lag_7\n",
       "GLD    1.0000 -0.0297  0.0003  1.2635e-02 -0.0026 -5.9392e-03  0.0099 -0.0013\n",
       "lag_1 -0.0297  1.0000 -0.0305  8.1418e-04  0.0128 -2.8765e-03 -0.0053  0.0098\n",
       "lag_2  0.0003 -0.0305  1.0000 -3.1617e-02  0.0003  1.3234e-02 -0.0043 -0.0052\n",
       "lag_3  0.0126  0.0008 -0.0316  1.0000e+00 -0.0313 -6.8542e-06  0.0141 -0.0044\n",
       "lag_4 -0.0026  0.0128  0.0003 -3.1329e-02  1.0000 -3.1761e-02  0.0002  0.0141\n",
       "lag_5 -0.0059 -0.0029  0.0132 -6.8542e-06 -0.0318  1.0000e+00 -0.0323  0.0002\n",
       "lag_6  0.0099 -0.0053 -0.0043  1.4115e-02  0.0002 -3.2289e-02  1.0000 -0.0324\n",
       "lag_7 -0.0013  0.0098 -0.0052 -4.3869e-03  0.0141  2.1707e-04 -0.0324  1.0000"
      ]
     },
     "execution_count": 17,
     "metadata": {},
     "output_type": "execute_result"
    }
   ],
   "source": [
    "dfs[sym].corr() # Log returns are very low correlation"
   ]
  },
  {
   "cell_type": "code",
   "execution_count": 18,
   "metadata": {},
   "outputs": [
    {
     "name": "stdout",
     "output_type": "stream",
     "text": [
      "OLS | AAPL.O     | acc=0.5056\n",
      "OLS | MSFT.O     | acc=0.5088\n",
      "OLS | INTC.O     | acc=0.5040\n",
      "OLS | AMZN.O     | acc=0.5048\n",
      "OLS | GS.N       | acc=0.5080\n",
      "OLS | SPY        | acc=0.5080\n",
      "OLS | .SPX       | acc=0.5167\n",
      "OLS | .VIX       | acc=0.5291\n",
      "OLS | EUR=       | acc=0.4984\n",
      "OLS | XAU=       | acc=0.5207\n",
      "OLS | GDX        | acc=0.5307\n",
      "OLS | GLD        | acc=0.5072\n"
     ]
    }
   ],
   "source": [
    "from sklearn.metrics import accuracy_score\n",
    "for sym in data:\n",
    "    df = dfs[sym]\n",
    "    reg = np.linalg.lstsq(df[cols], df[sym], rcond=-1)[0]\n",
    "    pred = np.dot(df[cols], reg) # The dot product of the lag columns and the regression is the predicted value\n",
    "    # Check the accuracy of regression-based\n",
    "    acc = accuracy_score(np.sign(df[sym]), np.sign(pred))\n",
    "    print(f'OLS | {sym:10s} | acc={acc:.4f}')"
   ]
  },
  {
   "cell_type": "markdown",
   "metadata": {},
   "source": [
    "# Neural Net Based Analysis\n",
    "* For our first approach to neural net prediction vectors, let's train the whole sample - i.e. overfit to death"
   ]
  },
  {
   "cell_type": "code",
   "execution_count": 19,
   "metadata": {},
   "outputs": [
    {
     "name": "stdout",
     "output_type": "stream",
     "text": [
      "Multi-Layer Perceptron | AAPL.O     | acc=0.6005\n",
      "Multi-Layer Perceptron | MSFT.O     | acc=0.5853\n",
      "Multi-Layer Perceptron | INTC.O     | acc=0.5766\n",
      "Multi-Layer Perceptron | AMZN.O     | acc=0.5510\n",
      "Multi-Layer Perceptron | GS.N       | acc=0.6527\n",
      "Multi-Layer Perceptron | SPY        | acc=0.5419\n",
      "Multi-Layer Perceptron | .SPX       | acc=0.5399\n",
      "Multi-Layer Perceptron | .VIX       | acc=0.6579\n",
      "Multi-Layer Perceptron | EUR=       | acc=0.5642\n",
      "Multi-Layer Perceptron | XAU=       | acc=0.5522\n",
      "Multi-Layer Perceptron | GDX        | acc=0.6029\n",
      "Multi-Layer Perceptron | GLD        | acc=0.5259\n"
     ]
    }
   ],
   "source": [
    "from sklearn.neural_network import MLPRegressor\n",
    "\n",
    "for sym in data.columns:\n",
    "    df = dfs[sym]\n",
    "    model = MLPRegressor(hidden_layer_sizes=[512], # one layer with 512 nodes\n",
    "                        random_state=100, # reproducability\n",
    "                        max_iter = 1000, # stop before convergence if 1000 reached\n",
    "                        early_stopping=True, # Stop early if loss is not improving\n",
    "                        validation_fraction=0.15,\n",
    "                        shuffle=False)\n",
    "    model.fit(df[cols], df[sym]) # Fit this perceptron to the lagged data per symbol\n",
    "    pred = model.predict(df[cols]) # Predict the values \n",
    "    acc = accuracy_score(np.sign(df[sym]), np.sign(pred))\n",
    "    print(f'Multi-Layer Perceptron | {sym:10s} | acc={acc:.4f}')"
   ]
  },
  {
   "cell_type": "code",
   "execution_count": 20,
   "metadata": {},
   "outputs": [],
   "source": [
    "import tensorflow.compat.v1 as tf\n",
    "from keras.layers import Dense\n",
    "from keras.models import Sequential\n",
    "tf.logging.set_verbosity('ERROR')\n"
   ]
  },
  {
   "cell_type": "code",
   "execution_count": 21,
   "metadata": {},
   "outputs": [],
   "source": [
    "np.random.seed(100)\n",
    "tf.set_random_seed(100)"
   ]
  },
  {
   "cell_type": "code",
   "execution_count": 22,
   "metadata": {},
   "outputs": [],
   "source": [
    "def create_model(problem='regression'):\n",
    "    model = Sequential()\n",
    "    model.add(Dense(512, input_dim=len(cols),\n",
    "                             activation='relu'))\n",
    "    if problem == 'regression':\n",
    "        model.add(Dense(1, activation='linear'))\n",
    "        model.compile(loss='mse', optimizer='adam') # Mean square error as loss function, adam stochastic optimizer\n",
    "    else:\n",
    "        model.add(Dense(1, activation='sigmoid'))\n",
    "        model.compile(loss='binary_crossentropy', optimizer='adam')\n",
    "    return model\n",
    "        "
   ]
  },
  {
   "cell_type": "code",
   "execution_count": 23,
   "metadata": {},
   "outputs": [
    {
     "name": "stdout",
     "output_type": "stream",
     "text": [
      "DNN | AAPL.O     | acc=0.608453\n",
      "DNN | MSFT.O     | acc=0.615231\n",
      "DNN | INTC.O     | acc=0.623604\n",
      "DNN | AMZN.O     | acc=0.627592\n",
      "DNN | GS.N       | acc=0.613636\n",
      "DNN | SPY        | acc=0.559410\n",
      "DNN | .SPX       | acc=0.547847\n",
      "DNN | .VIX       | acc=0.614833\n",
      "DNN | EUR=       | acc=0.581738\n",
      "DNN | XAU=       | acc=0.602073\n",
      "DNN | GDX        | acc=0.612041\n",
      "DNN | GLD        | acc=0.600080\n"
     ]
    }
   ],
   "source": [
    "for sym in data.columns[:]:\n",
    "    df = dfs[sym]\n",
    "    model = create_model()\n",
    "    model.fit(df[cols], df[sym], epochs=25, verbose=False)\n",
    "    pred = model.predict(df[cols])\n",
    "    acc = accuracy_score(np.sign(df[sym]), np.sign(pred))\n",
    "    print(f'DNN | {sym:10s} | acc={acc:4f}')"
   ]
  },
  {
   "cell_type": "markdown",
   "metadata": {},
   "source": [
    "# Performance Out of Sample for OLS & NN\n",
    "* The neural net trained on the full set shows significant statistical inefficiencies.\n",
    "* Because of NN loss minimization, this architecture ovefits wildly.\n",
    "* To get a more realistic read on performane of this measure, apply train-test-split\n",
    "* Remember - this is all being fitted on log returns - i.e. do lagged returns predict future returns?\n",
    "\n",
    "### OLS is roughly the same in/out of sample\n",
    "### Multi-Layer Perceptron is way way worse\n",
    "### Same thing for Sequential from Keras"
   ]
  },
  {
   "cell_type": "code",
   "execution_count": 43,
   "metadata": {},
   "outputs": [
    {
     "name": "stdout",
     "output_type": "stream",
     "text": [
      "OLS | AAPL.O     | acc=0.5219\n",
      "OLS | MSFT.O     | acc=0.4960\n",
      "OLS | INTC.O     | acc=0.5418\n",
      "OLS | AMZN.O     | acc=0.4841\n",
      "OLS | GS.N       | acc=0.4980\n",
      "OLS | SPY        | acc=0.5020\n",
      "OLS | .SPX       | acc=0.5120\n",
      "OLS | .VIX       | acc=0.5458\n",
      "OLS | EUR=       | acc=0.4482\n",
      "OLS | XAU=       | acc=0.5299\n",
      "OLS | GDX        | acc=0.5159\n",
      "OLS | GLD        | acc=0.5100\n"
     ]
    }
   ],
   "source": [
    "split = int(len(dfs[sym]) * 0.8)\n",
    "\n",
    "for sym in data.columns:\n",
    "    df = dfs[sym]\n",
    "#     print(df.head())\n",
    "    train = df.iloc[:split]\n",
    "    reg = np.linalg.lstsq(train[cols], train[sym], rcond=-1)[0] # Create fit vector on test set\n",
    "    test = df.iloc[split:]\n",
    "    pred = np.dot(test[cols], reg) # dot product of regression weights and lagged data to predict\n",
    "#     print(reg)\n",
    "#     print(pred[:2])\n",
    "    acc = accuracy_score(np.sign(test[sym]), np.sign(pred))\n",
    "    print(f'OLS | {sym:10s} | acc={acc:.4f}')"
   ]
  },
  {
   "cell_type": "code",
   "execution_count": 45,
   "metadata": {},
   "outputs": [
    {
     "name": "stdout",
     "output_type": "stream",
     "text": [
      "MLP | AAPL.O     | acc=0.4920\n",
      "MLP | MSFT.O     | acc=0.5279\n",
      "MLP | INTC.O     | acc=0.5279\n",
      "MLP | AMZN.O     | acc=0.4641\n",
      "MLP | GS.N       | acc=0.5040\n",
      "MLP | SPY        | acc=0.5259\n",
      "MLP | .SPX       | acc=0.5478\n",
      "MLP | .VIX       | acc=0.5279\n",
      "MLP | EUR=       | acc=0.4980\n",
      "MLP | XAU=       | acc=0.5239\n",
      "MLP | GDX        | acc=0.4880\n",
      "MLP | GLD        | acc=0.5000\n"
     ]
    }
   ],
   "source": [
    "for sym in data.columns:\n",
    "    df = dfs[sym]\n",
    "    train = df.iloc[:split]\n",
    "    model = MLPRegressor(hidden_layer_sizes=[512],\n",
    "                        random_state=100,\n",
    "                        max_iter=1000,\n",
    "                        early_stopping=True,\n",
    "                        validation_fraction=0.15,\n",
    "                        shuffle=False)\n",
    "    model.fit(train[cols], train[sym])\n",
    "    test = df.iloc[split:]\n",
    "    pred = model.predict(test[cols])\n",
    "    acc = accuracy_score(np.sign(test[sym]), np.sign(pred))\n",
    "    print(f'MLP | {sym:10s} | acc={acc:.4f}')"
   ]
  },
  {
   "cell_type": "code",
   "execution_count": 46,
   "metadata": {},
   "outputs": [
    {
     "name": "stdout",
     "output_type": "stream",
     "text": [
      "DNN | AAPL.O     | acc=0.4522\n",
      "DNN | MSFT.O     | acc=0.5040\n",
      "DNN | INTC.O     | acc=0.4900\n",
      "DNN | AMZN.O     | acc=0.5000\n",
      "DNN | GS.N       | acc=0.5259\n",
      "DNN | SPY        | acc=0.5398\n",
      "DNN | .SPX       | acc=0.5339\n",
      "DNN | .VIX       | acc=0.5020\n",
      "DNN | EUR=       | acc=0.5060\n",
      "DNN | XAU=       | acc=0.4861\n",
      "DNN | GDX        | acc=0.4761\n",
      "DNN | GLD        | acc=0.4880\n"
     ]
    }
   ],
   "source": [
    "for sym in data.columns:\n",
    "    df = dfs[sym]\n",
    "    train = df.iloc[:split] # from everything to the split point - so 80% in this case\n",
    "    model = create_model()\n",
    "    model.fit(train[cols], train[sym], epochs=50, verbose=False)\n",
    "    test = df.iloc[split:]\n",
    "    pred = model.predict(test[cols])\n",
    "    acc = accuracy_score(np.sign(test[sym]), np.sign(pred))\n",
    "    print(f'DNN | {sym:10s} | acc={acc:.4f}')"
   ]
  },
  {
   "cell_type": "markdown",
   "metadata": {},
   "source": [
    "# Improving Accuracy\n",
    "* Two approaches two improve accuracy:\n",
    "    1. Feature engineering - add additional features to the input vector that's learned on\n",
    "    2. Increase data frequency - sample intraday"
   ]
  },
  {
   "cell_type": "markdown",
   "metadata": {},
   "source": [
    "# Technical Indicators as Training Inputs\n",
    "* Let's try creating simple moving average, rolling minimum, maximum, volality, and momentum"
   ]
  },
  {
   "cell_type": "code",
   "execution_count": 48,
   "metadata": {},
   "outputs": [],
   "source": [
    "url = 'http://hilpisch.com/aiif_eikon_eod_data.csv'\n",
    "data = pd.read_csv(url, index_col=0, parse_dates=True).dropna()"
   ]
  },
  {
   "cell_type": "code",
   "execution_count": 50,
   "metadata": {},
   "outputs": [],
   "source": [
    "def add_lags(data, ric, lags, window=50):\n",
    "    cols = []\n",
    "    df = pd.DataFrame(data[ric])\n",
    "    df.dropna(inplace=True)\n",
    "    df['r'] = np.log(df/df.shift())\n",
    "    df['sma'] = df[ric].rolling(window).mean()\n",
    "    df['min'] = df[ric].rolling(window).min()\n",
    "    df['max'] = df[ric].rolling(window).max()\n",
    "    df['mom'] = df['r'].rolling(window).mean() # Momentum is just the mean of returbns\n",
    "    df['vol'] = df['r'].rolling(window).std()\n",
    "    df.dropna(inplace=True) # Drop where window wasn't big enough\n",
    "    df['d'] = np.where(df['r'] > 0, 1, 0)\n",
    "    features = [ric, 'r', 'd', 'sma', 'min', 'max', 'mom', 'vol']\n",
    "    for f in features:\n",
    "        for lag in range(1, lags+1):\n",
    "            col = f'{f}_lag_{lag}'\n",
    "            df[col] = df[f].shift(lag)\n",
    "            cols.append(col)\n",
    "    df.dropna(inplace=True)\n",
    "    return df, cols"
   ]
  },
  {
   "cell_type": "code",
   "execution_count": 51,
   "metadata": {},
   "outputs": [],
   "source": [
    "lags = 5"
   ]
  },
  {
   "cell_type": "code",
   "execution_count": 52,
   "metadata": {},
   "outputs": [],
   "source": [
    "dfs = {}\n",
    "for ric in data:\n",
    "    df, cols = add_lags(data, ric, lags)\n",
    "    dfs[ric] = df.dropna(), cols"
   ]
  },
  {
   "cell_type": "markdown",
   "metadata": {},
   "source": [
    "# Technical Indicators Added - Result\n",
    "* In-Sample MLP has 5% hit-rate improvement\n",
    "* In-sample Keras Sequential has 10% hit-rate improvement"
   ]
  },
  {
   "cell_type": "code",
   "execution_count": 54,
   "metadata": {},
   "outputs": [
    {
     "name": "stdout",
     "output_type": "stream",
     "text": [
      "IN-SAMPLE | AAPL.O  | acc=0.5510\n",
      "IN-SAMPLE | MSFT.O  | acc=0.5376\n",
      "IN-SAMPLE | INTC.O  | acc=0.5607\n",
      "IN-SAMPLE | AMZN.O  | acc=0.5559\n",
      "IN-SAMPLE | GS.N    | acc=0.5794\n",
      "IN-SAMPLE | SPY     | acc=0.5729\n",
      "IN-SAMPLE | .SPX    | acc=0.5941\n",
      "IN-SAMPLE | .VIX    | acc=0.6940\n",
      "IN-SAMPLE | EUR=    | acc=0.5766\n",
      "IN-SAMPLE | XAU=    | acc=0.5672\n",
      "IN-SAMPLE | GDX     | acc=0.5847\n",
      "IN-SAMPLE | GLD     | acc=0.5567\n"
     ]
    }
   ],
   "source": [
    "from sklearn.neural_network import MLPClassifier\n",
    "# Perceptron Approach\n",
    "for ric in data:\n",
    "    model = MLPClassifier(hidden_layer_sizes=[512],\n",
    "                         random_state=100,\n",
    "                         max_iter=1000,\n",
    "                         early_stopping=True,\n",
    "                         validation_fraction=0.15,\n",
    "                         shuffle=False)\n",
    "    df, cols = dfs[ric]\n",
    "    df = (df - df.mean()) / df.std() # Normalize all features\n",
    "    df['d'] = np.where(df['d'] > 0, 1, 0)\n",
    "    model.fit(df[cols], df['d'])\n",
    "    pred = model.predict(df[cols])\n",
    "    acc = accuracy_score(df['d'], pred)\n",
    "    print(f'IN-SAMPLE | {ric:7s} | acc={acc:.4f}')"
   ]
  },
  {
   "cell_type": "code",
   "execution_count": 56,
   "metadata": {},
   "outputs": [
    {
     "name": "stdout",
     "output_type": "stream",
     "text": [
      "IN-SAMPLE | AAPL.O  | acc=0.7013\n",
      "IN-SAMPLE | MSFT.O  | acc=0.6916\n",
      "IN-SAMPLE | INTC.O  | acc=0.7058\n",
      "IN-SAMPLE | AMZN.O  | acc=0.6692\n",
      "IN-SAMPLE | GS.N    | acc=0.6961\n",
      "IN-SAMPLE | SPY     | acc=0.6883\n",
      "IN-SAMPLE | .SPX    | acc=0.6948\n",
      "IN-SAMPLE | .VIX    | acc=0.7375\n",
      "IN-SAMPLE | EUR=    | acc=0.6741\n",
      "IN-SAMPLE | XAU=    | acc=0.7001\n",
      "IN-SAMPLE | GDX     | acc=0.6843\n",
      "IN-SAMPLE | GLD     | acc=0.7054\n",
      "CPU times: user 57 s, sys: 10.7 s, total: 1min 7s\n",
      "Wall time: 36.6 s\n"
     ]
    }
   ],
   "source": [
    "%%time\n",
    "# Keras version\n",
    "for ric in data:\n",
    "    model = create_model('classification')\n",
    "    df, cols = dfs[ric]\n",
    "    df = (df - df.mean()) / df.std() # Normalize\n",
    "    df['d'] = np.where(df['d'] > 0, 1, 0) # Reset his after the normalization\n",
    "    model.fit(df[cols], df['d'], epochs=50, verbose=False)\n",
    "    pred = model.predict_classes(df[cols])\n",
    "    acc = accuracy_score(df['d'], pred)\n",
    "    print(f'IN-SAMPLE | {ric:7s} | acc={acc:.4f}')"
   ]
  },
  {
   "cell_type": "markdown",
   "metadata": {},
   "source": [
    "# More Features\n",
    "* Does this improve out of sample?\n",
    "* Just a bit - but still not tradable"
   ]
  },
  {
   "cell_type": "code",
   "execution_count": 57,
   "metadata": {},
   "outputs": [],
   "source": [
    "def train_test_model(model):\n",
    "    for ric in data:\n",
    "        df, cols = dfs[ric]\n",
    "        split = int(len(df) * 0.85)\n",
    "        train = df.iloc[:split].copy()\n",
    "        mu, std = train[cols].mean(), train[cols].std()\n",
    "        train[cols] = (train[cols]  - mu) / std # Normalize train set\n",
    "        train['d'] = np.where(train['d'] > 0, 1, 0)\n",
    "        model.fit(train[cols], train['d'])\n",
    "        test = df.iloc[split:].copy()\n",
    "        test[cols] = (test[cols] - mu) / std # Normalize test set\n",
    "        test['d'] = np.where(test['d'] > 0, 1, 0)\n",
    "        pred = model.predict(test[cols])\n",
    "        acc = accuracy_score(test['d'], pred)\n",
    "        print(f'OUT-OF-SAMPLE | {ric:7s} | acc={acc:.4f}')"
   ]
  },
  {
   "cell_type": "code",
   "execution_count": 58,
   "metadata": {},
   "outputs": [],
   "source": [
    "model_mlp = MLPClassifier(hidden_layer_sizes=[512],\n",
    "                         random_state=100,\n",
    "                         max_iter=1000,\n",
    "                         early_stopping=True,\n",
    "                         validation_fraction=0.15,\n",
    "                         shuffle=False)"
   ]
  },
  {
   "cell_type": "code",
   "execution_count": 59,
   "metadata": {},
   "outputs": [
    {
     "name": "stdout",
     "output_type": "stream",
     "text": [
      "OUT-OF-SAMPLE | AAPL.O  | acc=0.4432\n",
      "OUT-OF-SAMPLE | MSFT.O  | acc=0.4595\n",
      "OUT-OF-SAMPLE | INTC.O  | acc=0.5000\n",
      "OUT-OF-SAMPLE | AMZN.O  | acc=0.5270\n",
      "OUT-OF-SAMPLE | GS.N    | acc=0.4838\n",
      "OUT-OF-SAMPLE | SPY     | acc=0.4811\n",
      "OUT-OF-SAMPLE | .SPX    | acc=0.5027\n",
      "OUT-OF-SAMPLE | .VIX    | acc=0.5676\n",
      "OUT-OF-SAMPLE | EUR=    | acc=0.4649\n",
      "OUT-OF-SAMPLE | XAU=    | acc=0.5514\n",
      "OUT-OF-SAMPLE | GDX     | acc=0.5162\n",
      "OUT-OF-SAMPLE | GLD     | acc=0.4946\n",
      "CPU times: user 6.9 s, sys: 531 ms, total: 7.43 s\n",
      "Wall time: 3.99 s\n"
     ]
    }
   ],
   "source": [
    "%time train_test_model(model_mlp)"
   ]
  },
  {
   "cell_type": "markdown",
   "metadata": {},
   "source": [
    "# Bagging & Overfitting\n",
    "* Bagging combines various trained models to form as a metamodel - this can fight overfitting"
   ]
  },
  {
   "cell_type": "code",
   "execution_count": 60,
   "metadata": {},
   "outputs": [],
   "source": [
    "from sklearn.ensemble import BaggingClassifier"
   ]
  },
  {
   "cell_type": "code",
   "execution_count": 61,
   "metadata": {},
   "outputs": [],
   "source": [
    "base_estimator = MLPClassifier(hidden_layer_sizes=[256],\n",
    "                              random_state=100,\n",
    "                              max_iter=1000,\n",
    "                              early_stopping=True,\n",
    "                              validation_fraction=0.15,\n",
    "                              shuffle=False)"
   ]
  },
  {
   "cell_type": "code",
   "execution_count": 62,
   "metadata": {},
   "outputs": [],
   "source": [
    "model_bag = BaggingClassifier(base_estimator=base_estimator,\n",
    "                             n_estimators=35,\n",
    "                             max_samples=0.25, # Max % of training data avilable per estimator\n",
    "                             max_features=0.5, # Max  % of features to pull per estimator\n",
    "                             bootstrap=False, # Data with replacement?\n",
    "                             bootstrap_features=True, # Features with replacement?\n",
    "                             n_jobs=8, # Number of models training in parallel\n",
    "                             random_state=100)"
   ]
  },
  {
   "cell_type": "code",
   "execution_count": 63,
   "metadata": {},
   "outputs": [
    {
     "name": "stdout",
     "output_type": "stream",
     "text": [
      "OUT-OF-SAMPLE | AAPL.O  | acc=0.5243\n",
      "OUT-OF-SAMPLE | MSFT.O  | acc=0.5703\n",
      "OUT-OF-SAMPLE | INTC.O  | acc=0.5027\n",
      "OUT-OF-SAMPLE | AMZN.O  | acc=0.5270\n",
      "OUT-OF-SAMPLE | GS.N    | acc=0.5243\n",
      "OUT-OF-SAMPLE | SPY     | acc=0.5595\n",
      "OUT-OF-SAMPLE | .SPX    | acc=0.5514\n",
      "OUT-OF-SAMPLE | .VIX    | acc=0.5649\n",
      "OUT-OF-SAMPLE | EUR=    | acc=0.5108\n",
      "OUT-OF-SAMPLE | XAU=    | acc=0.5378\n",
      "OUT-OF-SAMPLE | GDX     | acc=0.5162\n",
      "OUT-OF-SAMPLE | GLD     | acc=0.5432\n",
      "CPU times: user 1.85 s, sys: 330 ms, total: 2.18 s\n",
      "Wall time: 14.1 s\n"
     ]
    }
   ],
   "source": [
    "%time train_test_model(model_bag)"
   ]
  },
  {
   "cell_type": "markdown",
   "metadata": {},
   "source": [
    "# Intraday Predictions\n",
    "* Is there more statisical inefficiencies that allow for Alpha intraday?"
   ]
  },
  {
   "cell_type": "code",
   "execution_count": 64,
   "metadata": {},
   "outputs": [],
   "source": [
    "url = 'http://hilpisch.com/aiif_eikon_id_data.csv'"
   ]
  },
  {
   "cell_type": "code",
   "execution_count": 65,
   "metadata": {},
   "outputs": [],
   "source": [
    "data = pd.read_csv(url, index_col=0, parse_dates=True)"
   ]
  },
  {
   "cell_type": "code",
   "execution_count": 66,
   "metadata": {},
   "outputs": [
    {
     "name": "stdout",
     "output_type": "stream",
     "text": [
      "<class 'pandas.core.frame.DataFrame'>\n",
      "DatetimeIndex: 5529 entries, 2019-03-01 00:00:00 to 2020-01-01 00:00:00\n",
      "Data columns (total 12 columns):\n",
      "AAPL.O    3384 non-null float64\n",
      "MSFT.O    3378 non-null float64\n",
      "INTC.O    3275 non-null float64\n",
      "AMZN.O    3381 non-null float64\n",
      "GS.N      1686 non-null float64\n",
      "SPY       3388 non-null float64\n",
      ".SPX      1802 non-null float64\n",
      ".VIX      2959 non-null float64\n",
      "EUR=      5429 non-null float64\n",
      "XAU=      5149 non-null float64\n",
      "GDX       3173 non-null float64\n",
      "GLD       3351 non-null float64\n",
      "dtypes: float64(12)\n",
      "memory usage: 561.5 KB\n"
     ]
    }
   ],
   "source": [
    "data.info()"
   ]
  },
  {
   "cell_type": "code",
   "execution_count": 67,
   "metadata": {},
   "outputs": [],
   "source": [
    "lags = 5"
   ]
  },
  {
   "cell_type": "code",
   "execution_count": 68,
   "metadata": {},
   "outputs": [],
   "source": [
    "dfs = {}\n",
    "for ric in data:\n",
    "    df, cols = add_lags(data, ric, lags)\n",
    "    dfs[ric] = df, cols"
   ]
  },
  {
   "cell_type": "code",
   "execution_count": 69,
   "metadata": {},
   "outputs": [
    {
     "name": "stdout",
     "output_type": "stream",
     "text": [
      "OUT-OF-SAMPLE | AAPL.O  | acc=0.5420\n",
      "OUT-OF-SAMPLE | MSFT.O  | acc=0.4930\n",
      "OUT-OF-SAMPLE | INTC.O  | acc=0.5549\n",
      "OUT-OF-SAMPLE | AMZN.O  | acc=0.4709\n",
      "OUT-OF-SAMPLE | GS.N    | acc=0.5184\n",
      "OUT-OF-SAMPLE | SPY     | acc=0.4860\n",
      "OUT-OF-SAMPLE | .SPX    | acc=0.5019\n",
      "OUT-OF-SAMPLE | .VIX    | acc=0.4885\n",
      "OUT-OF-SAMPLE | EUR=    | acc=0.5130\n",
      "OUT-OF-SAMPLE | XAU=    | acc=0.4824\n",
      "OUT-OF-SAMPLE | GDX     | acc=0.4765\n",
      "OUT-OF-SAMPLE | GLD     | acc=0.5455\n",
      "CPU times: user 9.33 s, sys: 745 ms, total: 10.1 s\n",
      "Wall time: 5.19 s\n"
     ]
    }
   ],
   "source": [
    "%time train_test_model(model_mlp)"
   ]
  },
  {
   "cell_type": "code",
   "execution_count": 70,
   "metadata": {},
   "outputs": [
    {
     "name": "stdout",
     "output_type": "stream",
     "text": [
      "OUT-OF-SAMPLE | AAPL.O  | acc=0.5660\n",
      "OUT-OF-SAMPLE | MSFT.O  | acc=0.5431\n",
      "OUT-OF-SAMPLE | INTC.O  | acc=0.5072\n",
      "OUT-OF-SAMPLE | AMZN.O  | acc=0.5110\n",
      "OUT-OF-SAMPLE | GS.N    | acc=0.5020\n",
      "OUT-OF-SAMPLE | SPY     | acc=0.5120\n",
      "OUT-OF-SAMPLE | .SPX    | acc=0.4677\n",
      "OUT-OF-SAMPLE | .VIX    | acc=0.5092\n",
      "OUT-OF-SAMPLE | EUR=    | acc=0.5242\n",
      "OUT-OF-SAMPLE | XAU=    | acc=0.5255\n",
      "OUT-OF-SAMPLE | GDX     | acc=0.5085\n",
      "OUT-OF-SAMPLE | GLD     | acc=0.5374\n",
      "CPU times: user 1.86 s, sys: 329 ms, total: 2.19 s\n",
      "Wall time: 17.3 s\n"
     ]
    }
   ],
   "source": [
    "%time train_test_model(model_bag)"
   ]
  },
  {
   "cell_type": "code",
   "execution_count": null,
   "metadata": {},
   "outputs": [],
   "source": []
  }
 ],
 "metadata": {
  "kernelspec": {
   "display_name": "Python 3",
   "language": "python",
   "name": "python3"
  },
  "language_info": {
   "codemirror_mode": {
    "name": "ipython",
    "version": 3
   },
   "file_extension": ".py",
   "mimetype": "text/x-python",
   "name": "python",
   "nbconvert_exporter": "python",
   "pygments_lexer": "ipython3",
   "version": "3.7.3"
  }
 },
 "nbformat": 4,
 "nbformat_minor": 2
}
