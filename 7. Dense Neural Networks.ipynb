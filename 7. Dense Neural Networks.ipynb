{
 "cells": [
  {
   "cell_type": "markdown",
   "metadata": {},
   "source": [
    "# Introduction\n",
    "* Notebook 6 already uses DNNs - both the multi-layer perceptron and Sequential from Keras are DNNs.\n",
    "* Keras is focused on here since we can model our network architecture explicitly using it.\n",
    "* In this example, Keras will learn on FX rates, but could be trained on any asset class and any features with the usual lags methodology\n",
    "* This data is structured tick/intraday and contains {High, Low, Open, Close}"
   ]
  },
  {
   "cell_type": "code",
   "execution_count": 56,
   "metadata": {},
   "outputs": [],
   "source": [
    "import random\n",
    "import tensorflow.compat.v1 as tf\n",
    "from keras.layers import Dense, Dropout\n",
    "from keras.models import Sequential\n",
    "from keras.regularizers import l1, l2\n",
    "from sklearn.metrics import accuracy_score\n",
    "from sklearn.ensemble import BaggingClassifier\n",
    "from keras.wrappers.scikit_learn import KerasClassifier\n",
    "\n",
    "tf.compat.v1.logging.set_verbosity('ERROR')\n",
    "import numpy as np\n",
    "import pandas as pd\n",
    "from pylab import plt\n",
    "plt.style.use('seaborn')\n",
    "pd.set_option('precision', 4)\n",
    "np.set_printoptions(suppress=True, precision=4)"
   ]
  },
  {
   "cell_type": "code",
   "execution_count": 2,
   "metadata": {},
   "outputs": [],
   "source": [
    "url = 'http://hilpisch.com/aiif_eikon_id_eur_usd.csv'"
   ]
  },
  {
   "cell_type": "code",
   "execution_count": 3,
   "metadata": {},
   "outputs": [],
   "source": [
    "symbol = 'EUR_USD'"
   ]
  },
  {
   "cell_type": "code",
   "execution_count": 4,
   "metadata": {},
   "outputs": [],
   "source": [
    "raw = pd.read_csv(url, index_col=0, parse_dates=True)"
   ]
  },
  {
   "cell_type": "code",
   "execution_count": 5,
   "metadata": {},
   "outputs": [
    {
     "data": {
      "text/html": [
       "<div>\n",
       "<style scoped>\n",
       "    .dataframe tbody tr th:only-of-type {\n",
       "        vertical-align: middle;\n",
       "    }\n",
       "\n",
       "    .dataframe tbody tr th {\n",
       "        vertical-align: top;\n",
       "    }\n",
       "\n",
       "    .dataframe thead th {\n",
       "        text-align: right;\n",
       "    }\n",
       "</style>\n",
       "<table border=\"1\" class=\"dataframe\">\n",
       "  <thead>\n",
       "    <tr style=\"text-align: right;\">\n",
       "      <th></th>\n",
       "      <th>HIGH</th>\n",
       "      <th>LOW</th>\n",
       "      <th>OPEN</th>\n",
       "      <th>CLOSE</th>\n",
       "    </tr>\n",
       "    <tr>\n",
       "      <th>Date</th>\n",
       "      <th></th>\n",
       "      <th></th>\n",
       "      <th></th>\n",
       "      <th></th>\n",
       "    </tr>\n",
       "  </thead>\n",
       "  <tbody>\n",
       "    <tr>\n",
       "      <th>2019-12-31 22:11:00</th>\n",
       "      <td>1.1212</td>\n",
       "      <td>1.1211</td>\n",
       "      <td>1.1212</td>\n",
       "      <td>1.1211</td>\n",
       "    </tr>\n",
       "    <tr>\n",
       "      <th>2019-12-31 23:01:00</th>\n",
       "      <td>1.1212</td>\n",
       "      <td>1.1211</td>\n",
       "      <td>1.1211</td>\n",
       "      <td>1.1211</td>\n",
       "    </tr>\n",
       "    <tr>\n",
       "      <th>2019-12-31 23:03:00</th>\n",
       "      <td>1.1212</td>\n",
       "      <td>1.1211</td>\n",
       "      <td>1.1212</td>\n",
       "      <td>1.1211</td>\n",
       "    </tr>\n",
       "    <tr>\n",
       "      <th>2019-12-31 23:05:00</th>\n",
       "      <td>1.1212</td>\n",
       "      <td>1.1212</td>\n",
       "      <td>1.1212</td>\n",
       "      <td>1.1212</td>\n",
       "    </tr>\n",
       "    <tr>\n",
       "      <th>2019-12-31 23:06:00</th>\n",
       "      <td>1.1211</td>\n",
       "      <td>1.1211</td>\n",
       "      <td>1.1211</td>\n",
       "      <td>1.1211</td>\n",
       "    </tr>\n",
       "  </tbody>\n",
       "</table>\n",
       "</div>"
      ],
      "text/plain": [
       "                       HIGH     LOW    OPEN   CLOSE\n",
       "Date                                               \n",
       "2019-12-31 22:11:00  1.1212  1.1211  1.1212  1.1211\n",
       "2019-12-31 23:01:00  1.1212  1.1211  1.1211  1.1211\n",
       "2019-12-31 23:03:00  1.1212  1.1211  1.1212  1.1211\n",
       "2019-12-31 23:05:00  1.1212  1.1212  1.1212  1.1212\n",
       "2019-12-31 23:06:00  1.1211  1.1211  1.1211  1.1211"
      ]
     },
     "execution_count": 5,
     "metadata": {},
     "output_type": "execute_result"
    }
   ],
   "source": [
    "raw.tail()"
   ]
  },
  {
   "cell_type": "code",
   "execution_count": 6,
   "metadata": {},
   "outputs": [
    {
     "name": "stdout",
     "output_type": "stream",
     "text": [
      "<class 'pandas.core.frame.DataFrame'>\n",
      "DatetimeIndex: 96526 entries, 2019-10-01 00:00:00 to 2019-12-31 23:06:00\n",
      "Data columns (total 4 columns):\n",
      "HIGH     96526 non-null float64\n",
      "LOW      96526 non-null float64\n",
      "OPEN     96526 non-null float64\n",
      "CLOSE    96526 non-null float64\n",
      "dtypes: float64(4)\n",
      "memory usage: 3.7 MB\n"
     ]
    }
   ],
   "source": [
    "raw.info()"
   ]
  },
  {
   "cell_type": "code",
   "execution_count": 7,
   "metadata": {},
   "outputs": [
    {
     "data": {
      "text/html": [
       "<div>\n",
       "<style scoped>\n",
       "    .dataframe tbody tr th:only-of-type {\n",
       "        vertical-align: middle;\n",
       "    }\n",
       "\n",
       "    .dataframe tbody tr th {\n",
       "        vertical-align: top;\n",
       "    }\n",
       "\n",
       "    .dataframe thead th {\n",
       "        text-align: right;\n",
       "    }\n",
       "</style>\n",
       "<table border=\"1\" class=\"dataframe\">\n",
       "  <thead>\n",
       "    <tr style=\"text-align: right;\">\n",
       "      <th></th>\n",
       "      <th>EUR_USD</th>\n",
       "    </tr>\n",
       "    <tr>\n",
       "      <th>Date</th>\n",
       "      <th></th>\n",
       "    </tr>\n",
       "  </thead>\n",
       "  <tbody>\n",
       "    <tr>\n",
       "      <th>2019-12-31 22:11:00</th>\n",
       "      <td>1.1211</td>\n",
       "    </tr>\n",
       "    <tr>\n",
       "      <th>2019-12-31 23:01:00</th>\n",
       "      <td>1.1211</td>\n",
       "    </tr>\n",
       "    <tr>\n",
       "      <th>2019-12-31 23:03:00</th>\n",
       "      <td>1.1211</td>\n",
       "    </tr>\n",
       "    <tr>\n",
       "      <th>2019-12-31 23:05:00</th>\n",
       "      <td>1.1212</td>\n",
       "    </tr>\n",
       "    <tr>\n",
       "      <th>2019-12-31 23:06:00</th>\n",
       "      <td>1.1211</td>\n",
       "    </tr>\n",
       "  </tbody>\n",
       "</table>\n",
       "</div>"
      ],
      "text/plain": [
       "                     EUR_USD\n",
       "Date                        \n",
       "2019-12-31 22:11:00   1.1211\n",
       "2019-12-31 23:01:00   1.1211\n",
       "2019-12-31 23:03:00   1.1211\n",
       "2019-12-31 23:05:00   1.1212\n",
       "2019-12-31 23:06:00   1.1211"
      ]
     },
     "execution_count": 7,
     "metadata": {},
     "output_type": "execute_result"
    }
   ],
   "source": [
    "data = pd.DataFrame(raw['CLOSE'].loc[:])\n",
    "data.columns = [symbol]\n",
    "data.tail()"
   ]
  },
  {
   "cell_type": "code",
   "execution_count": 8,
   "metadata": {},
   "outputs": [
    {
     "name": "stdout",
     "output_type": "stream",
     "text": [
      "<class 'pandas.core.frame.DataFrame'>\n",
      "DatetimeIndex: 13243 entries, 2019-10-01 00:10:00 to 2019-12-31 23:10:00\n",
      "Freq: 10T\n",
      "Data columns (total 1 columns):\n",
      "EUR_USD    13243 non-null float64\n",
      "dtypes: float64(1)\n",
      "memory usage: 206.9 KB\n"
     ]
    }
   ],
   "source": [
    "# Offset string list\n",
    "data = data.resample('10min', label='right').last().ffill() # Fill NAs with previous populated value (Forward Fill)\n",
    "data.info()"
   ]
  },
  {
   "cell_type": "code",
   "execution_count": 9,
   "metadata": {},
   "outputs": [
    {
     "data": {
      "text/plain": [
       "<matplotlib.axes._subplots.AxesSubplot at 0x1413806a0>"
      ]
     },
     "execution_count": 9,
     "metadata": {},
     "output_type": "execute_result"
    },
    {
     "data": {
      "image/png": "[encoded data removed]",
      "text/plain": [
       "<Figure size 1440x864 with 1 Axes>"
      ]
     },
     "metadata": {
      "needs_background": "light"
     },
     "output_type": "display_data"
    }
   ],
   "source": [
    "data.plot(figsize=(20,12))"
   ]
  },
  {
   "cell_type": "code",
   "execution_count": 10,
   "metadata": {},
   "outputs": [],
   "source": [
    "# Now for the usual lags approach!\n",
    "def add_lags(data, symbol, lags, window=50):\n",
    "    cols = []\n",
    "    df = data.copy()\n",
    "    df.dropna(inplace=True)\n",
    "    df['r'] = np.log(df / df.shift())\n",
    "    df['sma'] = df[symbol].rolling(window).mean()\n",
    "    df['min'] = df[symbol].rolling(window).min()\n",
    "    df['max'] = df[symbol].rolling(window).max()\n",
    "    df['mom'] = df['r'].rolling(window).mean()\n",
    "    df['vol'] = df['r'].rolling(window).std()\n",
    "    df.dropna(inplace=True)\n",
    "    df['d'] = np.where(df['r'] > 0, 1, 0)\n",
    "    features = [symbol, 'r', 'd', 'sma', 'min', 'max', 'mom', 'vol']\n",
    "    for f in features:\n",
    "        for lag in range(1, lags+1):\n",
    "            col = f'{f}_lag_{lag}'\n",
    "            df[col] = df[f].shift(lag)\n",
    "            cols.append(col)\n",
    "    df.dropna(inplace=True)\n",
    "    return df, cols"
   ]
  },
  {
   "cell_type": "code",
   "execution_count": 11,
   "metadata": {},
   "outputs": [],
   "source": [
    "data, cols = add_lags(data, symbol, 5)"
   ]
  },
  {
   "cell_type": "code",
   "execution_count": 12,
   "metadata": {},
   "outputs": [],
   "source": [
    "def set_seeds():\n",
    "    random.seed(100)\n",
    "    np.random.seed(100)\n",
    "    tf.compat.v1.random.set_random_seed(100)"
   ]
  },
  {
   "cell_type": "code",
   "execution_count": 13,
   "metadata": {},
   "outputs": [],
   "source": [
    "set_seeds()"
   ]
  },
  {
   "cell_type": "code",
   "execution_count": 14,
   "metadata": {},
   "outputs": [],
   "source": [
    "optimizer = 'adam' # Default Keras optimizer"
   ]
  },
  {
   "cell_type": "code",
   "execution_count": 15,
   "metadata": {},
   "outputs": [],
   "source": [
    "def create_model(hl=1, hu=128, optimizer=optimizer):\n",
    "    model = Sequential()\n",
    "    model.add(Dense(hu, # Input layer\n",
    "                    input_dim=len(cols),\n",
    "                   activation='relu'))\n",
    "    for _ in range(hl):\n",
    "        model.add(Dense(hu, activation='relu')) # Hidden layers\n",
    "    model.add(Dense(1, activation='sigmoid')) # Output Layer\n",
    "    model.compile(loss='binary_crossentropy', # Loss function\n",
    "                 optimizer=optimizer, # Optimizer Function\n",
    "                 metrics=['accuracy']) # Other metrics to collect\n",
    "    return model"
   ]
  },
  {
   "cell_type": "code",
   "execution_count": 16,
   "metadata": {},
   "outputs": [],
   "source": [
    "set_seeds()\n",
    "model = create_model(hl=1, hu=128)"
   ]
  },
  {
   "cell_type": "code",
   "execution_count": 17,
   "metadata": {},
   "outputs": [
    {
     "name": "stdout",
     "output_type": "stream",
     "text": [
      "CPU times: user 46.1 s, sys: 6.15 s, total: 52.3 s\n",
      "Wall time: 34.2 s\n"
     ]
    },
    {
     "data": {
      "text/plain": [
       "<tensorflow.python.keras.callbacks.History at 0x13f39aa20>"
      ]
     },
     "execution_count": 17,
     "metadata": {},
     "output_type": "execute_result"
    }
   ],
   "source": [
    "%time model.fit(data[cols], data['d'], epochs=50, verbose=False, validation_data=(data[cols], data['d'])) "
   ]
  },
  {
   "cell_type": "code",
   "execution_count": null,
   "metadata": {},
   "outputs": [],
   "source": []
  },
  {
   "cell_type": "code",
   "execution_count": 18,
   "metadata": {},
   "outputs": [
    {
     "name": "stdout",
     "output_type": "stream",
     "text": [
      "413/413 [==============================] - 1s 1ms/step - loss: 0.5408 - accuracy: 0.7037\n"
     ]
    },
    {
     "data": {
      "text/plain": [
       "[0.5407745242118835, 0.7037458419799805]"
      ]
     },
     "execution_count": 18,
     "metadata": {},
     "output_type": "execute_result"
    }
   ],
   "source": [
    "model.evaluate(data[cols], data['d']) # Performance in sample - 70% accuracy!"
   ]
  },
  {
   "cell_type": "code",
   "execution_count": 19,
   "metadata": {},
   "outputs": [],
   "source": [
    "split = int(len(data) * 0.8)\n",
    "train = data.iloc[:split]\n",
    "test = data.iloc[split:]\n",
    "set_seeds()"
   ]
  },
  {
   "cell_type": "code",
   "execution_count": 20,
   "metadata": {},
   "outputs": [],
   "source": [
    "model = create_model(hl=2, hu=128) # Why did this go to input layer of 2?"
   ]
  },
  {
   "cell_type": "code",
   "execution_count": 21,
   "metadata": {},
   "outputs": [
    {
     "name": "stdout",
     "output_type": "stream",
     "text": [
      "CPU times: user 48.7 s, sys: 6.05 s, total: 54.7 s\n",
      "Wall time: 38.5 s\n"
     ]
    },
    {
     "data": {
      "text/plain": [
       "<tensorflow.python.keras.callbacks.History at 0x141adf9e8>"
      ]
     },
     "execution_count": 21,
     "metadata": {},
     "output_type": "execute_result"
    }
   ],
   "source": [
    "%%time\n",
    "model.fit(train[cols], train['d'], epochs=50, verbose=False, validation_data=(data[cols], data['d']))"
   ]
  },
  {
   "cell_type": "code",
   "execution_count": 22,
   "metadata": {},
   "outputs": [
    {
     "name": "stdout",
     "output_type": "stream",
     "text": [
      "330/330 [==============================] - 1s 2ms/step - loss: 0.5459 - accuracy: 0.7018\n"
     ]
    },
    {
     "data": {
      "text/plain": [
       "[0.5458658337593079, 0.7018009424209595]"
      ]
     },
     "execution_count": 22,
     "metadata": {},
     "output_type": "execute_result"
    }
   ],
   "source": [
    "model.evaluate(train[cols], train['d'])"
   ]
  },
  {
   "cell_type": "code",
   "execution_count": 23,
   "metadata": {},
   "outputs": [
    {
     "name": "stdout",
     "output_type": "stream",
     "text": [
      "83/83 [==============================] - 0s 2ms/step - loss: 0.5141 - accuracy: 0.7115\n"
     ]
    },
    {
     "data": {
      "text/plain": [
       "[0.5140835046768188, 0.7115238904953003]"
      ]
     },
     "execution_count": 23,
     "metadata": {},
     "output_type": "execute_result"
    }
   ],
   "source": [
    "model.evaluate(test[cols], test['d']) # out of sample actually better! A well trained model!"
   ]
  },
  {
   "cell_type": "markdown",
   "metadata": {},
   "source": [
    "# Boosting Out-of-Sample Accuracy\n",
    "* From here, we shift focus to improving the accuracy of out-of-sample performance\n",
    "* Three candidates that improve out-of-sample accuracy are **Dropouts, Regularization, and Bagging**"
   ]
  },
  {
   "cell_type": "code",
   "execution_count": 24,
   "metadata": {},
   "outputs": [],
   "source": [
    "mu, std = train.mean(), train.std()"
   ]
  },
  {
   "cell_type": "code",
   "execution_count": 25,
   "metadata": {},
   "outputs": [],
   "source": [
    "train_ = (train - mu)/std # Gaussian Normalization"
   ]
  },
  {
   "cell_type": "code",
   "execution_count": 26,
   "metadata": {},
   "outputs": [],
   "source": [
    "set_seeds()\n",
    "model = create_model(hl=2, hu=128)"
   ]
  },
  {
   "cell_type": "code",
   "execution_count": 27,
   "metadata": {},
   "outputs": [
    {
     "name": "stdout",
     "output_type": "stream",
     "text": [
      "CPU times: user 14.1 s, sys: 1.71 s, total: 15.8 s\n",
      "Wall time: 10.7 s\n"
     ]
    },
    {
     "data": {
      "text/plain": [
       "<tensorflow.python.keras.callbacks.History at 0x105a3c748>"
      ]
     },
     "execution_count": 27,
     "metadata": {},
     "output_type": "execute_result"
    }
   ],
   "source": [
    "%%time\n",
    "model.fit(train_[cols], train['d'], epochs=25, verbose=False, validation_split=0.2, shuffle=False )"
   ]
  },
  {
   "cell_type": "code",
   "execution_count": 28,
   "metadata": {},
   "outputs": [
    {
     "name": "stdout",
     "output_type": "stream",
     "text": [
      "330/330 [==============================] - 0s 824us/step - loss: 0.4826 - accuracy: 0.7662\n"
     ]
    },
    {
     "data": {
      "text/plain": [
       "[0.4825561046600342, 0.7661611437797546]"
      ]
     },
     "execution_count": 28,
     "metadata": {},
     "output_type": "execute_result"
    }
   ],
   "source": [
    "model.evaluate(train_[cols], train['d']) # 76.6% in sample"
   ]
  },
  {
   "cell_type": "code",
   "execution_count": 29,
   "metadata": {},
   "outputs": [],
   "source": [
    "test_ = (test - mu)/std # 69.9% out of sample"
   ]
  },
  {
   "cell_type": "code",
   "execution_count": 30,
   "metadata": {},
   "outputs": [
    {
     "name": "stdout",
     "output_type": "stream",
     "text": [
      "83/83 [==============================] - 0s 833us/step - loss: 0.6667 - accuracy: 0.6941\n"
     ]
    },
    {
     "data": {
      "text/plain": [
       "[0.6667026877403259, 0.6940864324569702]"
      ]
     },
     "execution_count": 30,
     "metadata": {},
     "output_type": "execute_result"
    }
   ],
   "source": [
    "model.evaluate(test_[cols], test['d'])"
   ]
  },
  {
   "cell_type": "markdown",
   "metadata": {},
   "source": [
    "# Dropouts\n",
    "* The idea of dropouts is to **not use all units in a hidden layers during training**\n",
    "* The result of this is the in-sample and out-sample performance both decreasing slightly, but the difference between in- and out- of sample shrinking"
   ]
  },
  {
   "cell_type": "code",
   "execution_count": 31,
   "metadata": {},
   "outputs": [],
   "source": [
    "def create_model(hl=1, hu=128, dropout=True, rate=0.3, optimizer=optimizer):\n",
    "    model = Sequential()\n",
    "    model.add(Dense(hu,\n",
    "                  input_dim=len(cols),\n",
    "                  activation='relu'))\n",
    "    if dropout:\n",
    "        model.add(Dropout(rate, seed=100))\n",
    "    for _ in range(hl): # hl layers hu shaped\n",
    "        model.add(Dense(hu, activation='relu'))\n",
    "    model.add(Dense(1, activation='sigmoid')) # output\n",
    "    model.compile(loss='binary_crossentropy', optimizer=optimizer, metrics=['accuracy'])\n",
    "    \n",
    "    return model"
   ]
  },
  {
   "cell_type": "code",
   "execution_count": 32,
   "metadata": {},
   "outputs": [],
   "source": [
    "set_seeds()\n",
    "model = create_model(hl=2, hu=128, rate=0.3)"
   ]
  },
  {
   "cell_type": "code",
   "execution_count": 33,
   "metadata": {},
   "outputs": [
    {
     "name": "stdout",
     "output_type": "stream",
     "text": [
      "CPU times: user 13.5 s, sys: 1.78 s, total: 15.3 s\n",
      "Wall time: 8.31 s\n"
     ]
    },
    {
     "data": {
      "text/plain": [
       "<tensorflow.python.keras.callbacks.History at 0x146ee75c0>"
      ]
     },
     "execution_count": 33,
     "metadata": {},
     "output_type": "execute_result"
    }
   ],
   "source": [
    "%%time\n",
    "model.fit(train_[cols], train['d'],\n",
    "         epochs=25, verbose=False,\n",
    "         validation_split=0.15, shuffle=False)"
   ]
  },
  {
   "cell_type": "code",
   "execution_count": 34,
   "metadata": {},
   "outputs": [
    {
     "name": "stdout",
     "output_type": "stream",
     "text": [
      "330/330 [==============================] - 0s 785us/step - loss: 0.4809 - accuracy: 0.7272\n"
     ]
    },
    {
     "data": {
      "text/plain": [
       "[0.4808615446090698, 0.7272037863731384]"
      ]
     },
     "execution_count": 34,
     "metadata": {},
     "output_type": "execute_result"
    }
   ],
   "source": [
    "model.evaluate(train_[cols], train['d'])"
   ]
  },
  {
   "cell_type": "code",
   "execution_count": 35,
   "metadata": {},
   "outputs": [
    {
     "name": "stdout",
     "output_type": "stream",
     "text": [
      "83/83 [==============================] - 0s 789us/step - loss: 0.4946 - accuracy: 0.7123\n"
     ]
    },
    {
     "data": {
      "text/plain": [
       "[0.49461978673934937, 0.7122820615768433]"
      ]
     },
     "execution_count": 35,
     "metadata": {},
     "output_type": "execute_result"
    }
   ],
   "source": [
    "model.evaluate(test_[cols], test['d'])"
   ]
  },
  {
   "cell_type": "code",
   "execution_count": 36,
   "metadata": {},
   "outputs": [],
   "source": [
    "res = pd.DataFrame(model.history.history)"
   ]
  },
  {
   "cell_type": "markdown",
   "metadata": {},
   "source": [
    "# Regularization\n",
    "* Penalize large weights in the calculation of the loss function - this prevents any unit's weight from becoming dominant\n",
    "* Two regularizers can be used - the L1 norm and the L2 norm."
   ]
  },
  {
   "cell_type": "code",
   "execution_count": 41,
   "metadata": {},
   "outputs": [],
   "source": [
    "def create_model(hl=1, hu=128, dropout=False, rate=0.3, regularize=False, reg=l1(0.0005),\n",
    "                optimizer=optimizer, input_dim=len(cols)):\n",
    "    if not regularize:\n",
    "        reg = None\n",
    "    model = Sequential()\n",
    "    model.add(Dense(hu, input_dim=input_dim,\n",
    "                   activity_regularizer=reg,\n",
    "                   activation='relu'))\n",
    "    if dropout:\n",
    "        model.add(Dropout(rate, seed=100))\n",
    "    for _ in range(hl):\n",
    "        model.add(Dense(hu, activation='relu',\n",
    "                       activity_regularizer=reg))\n",
    "    model.add(Dense(1, activation='sigmoid'))\n",
    "    model.compile(loss='binary_crossentropy', optimizer=optimizer, metrics=['accuracy'])\n",
    "    return model"
   ]
  },
  {
   "cell_type": "code",
   "execution_count": 42,
   "metadata": {},
   "outputs": [],
   "source": [
    "set_seeds()\n",
    "model = create_model(hl=2, hu=128, regularize=True)"
   ]
  },
  {
   "cell_type": "code",
   "execution_count": 48,
   "metadata": {},
   "outputs": [
    {
     "name": "stdout",
     "output_type": "stream",
     "text": [
      "CPU times: user 12.6 s, sys: 1.64 s, total: 14.3 s\n",
      "Wall time: 7.65 s\n"
     ]
    },
    {
     "data": {
      "text/plain": [
       "<tensorflow.python.keras.callbacks.History at 0x1407df208>"
      ]
     },
     "execution_count": 48,
     "metadata": {},
     "output_type": "execute_result"
    }
   ],
   "source": [
    "%%time\n",
    "model.fit(train_[cols], train['d'],\n",
    "                 epochs=25, verbose=False,\n",
    "                 validation_split=0.2, shuffle=False)"
   ]
  },
  {
   "cell_type": "code",
   "execution_count": 49,
   "metadata": {},
   "outputs": [
    {
     "name": "stdout",
     "output_type": "stream",
     "text": [
      "330/330 [==============================] - 0s 969us/step - loss: 0.5109 - accuracy: 0.8587\n"
     ]
    },
    {
     "data": {
      "text/plain": [
       "[0.5109453201293945, 0.8586729764938354]"
      ]
     },
     "execution_count": 49,
     "metadata": {},
     "output_type": "execute_result"
    }
   ],
   "source": [
    "model.evaluate(train_[cols], train['d'])"
   ]
  },
  {
   "cell_type": "code",
   "execution_count": 50,
   "metadata": {},
   "outputs": [
    {
     "name": "stdout",
     "output_type": "stream",
     "text": [
      "83/83 [==============================] - 0s 1ms/step - loss: 1.2237 - accuracy: 0.6793\n"
     ]
    },
    {
     "data": {
      "text/plain": [
       "[1.2236555814743042, 0.6793025135993958]"
      ]
     },
     "execution_count": 50,
     "metadata": {},
     "output_type": "execute_result"
    }
   ],
   "source": [
    "model.evaluate(test_[cols], test['d'])"
   ]
  },
  {
   "cell_type": "code",
   "execution_count": 51,
   "metadata": {},
   "outputs": [],
   "source": [
    "# Use dropouts and regularization together!\n",
    "set_seeds()\n",
    "model = create_model(hl=2, hu=128,\n",
    "                    dropout=True, rate=0.3,\n",
    "                    regularize=True, reg=l2(0.001))\n"
   ]
  },
  {
   "cell_type": "code",
   "execution_count": 52,
   "metadata": {},
   "outputs": [
    {
     "name": "stdout",
     "output_type": "stream",
     "text": [
      "CPU times: user 14 s, sys: 1.92 s, total: 15.9 s\n",
      "Wall time: 8.57 s\n"
     ]
    },
    {
     "data": {
      "text/plain": [
       "<tensorflow.python.keras.callbacks.History at 0x14244a4e0>"
      ]
     },
     "execution_count": 52,
     "metadata": {},
     "output_type": "execute_result"
    }
   ],
   "source": [
    "%%time\n",
    "model.fit(train_[cols], train['d'],\n",
    "         epochs=25, verbose=False,\n",
    "         validation_split=0.2, shuffle=False)"
   ]
  },
  {
   "cell_type": "code",
   "execution_count": 54,
   "metadata": {},
   "outputs": [
    {
     "name": "stdout",
     "output_type": "stream",
     "text": [
      "330/330 [==============================] - 0s 993us/step - loss: 0.4995 - accuracy: 0.7217\n"
     ]
    },
    {
     "data": {
      "text/plain": [
       "[0.49947965145111084, 0.7217061519622803]"
      ]
     },
     "execution_count": 54,
     "metadata": {},
     "output_type": "execute_result"
    }
   ],
   "source": [
    "model.evaluate(train_[cols], train['d'])"
   ]
  },
  {
   "cell_type": "code",
   "execution_count": 55,
   "metadata": {},
   "outputs": [
    {
     "name": "stdout",
     "output_type": "stream",
     "text": [
      "83/83 [==============================] - 0s 1ms/step - loss: 0.5950 - accuracy: 0.7115\n"
     ]
    },
    {
     "data": {
      "text/plain": [
       "[0.5949754118919373, 0.7115238904953003]"
      ]
     },
     "execution_count": 55,
     "metadata": {},
     "output_type": "execute_result"
    }
   ],
   "source": [
    "model.evaluate(test[cols], test['d'])"
   ]
  },
  {
   "cell_type": "markdown",
   "metadata": {},
   "source": [
    "# Bagging\n",
    "* Bagging reduces overfitting my exposing multipler identical neural nets to sub-portions of the feature set and training data, then combining the results"
   ]
  },
  {
   "cell_type": "code",
   "execution_count": 57,
   "metadata": {},
   "outputs": [],
   "source": [
    "max_features = 0.75\n",
    "set_seeds()\n",
    "base_estimator = KerasClassifier(build_fn=create_model,\n",
    "                                verbose=False, epochs=20, hl=1, hu=128,\n",
    "                                dropout=False, regularize=True,\n",
    "                                input_dim=int(len(cols) * max_features))"
   ]
  },
  {
   "cell_type": "code",
   "execution_count": 58,
   "metadata": {},
   "outputs": [],
   "source": [
    "model_bag = BaggingClassifier(base_estimator=base_estimator,\n",
    "                             n_estimators=15,\n",
    "                             max_samples=0.75,\n",
    "                             max_features=max_features,\n",
    "                             bootstrap=True,\n",
    "                             bootstrap_features=True,\n",
    "                             n_jobs=1,\n",
    "                             random_state=100)"
   ]
  },
  {
   "cell_type": "code",
   "execution_count": 59,
   "metadata": {},
   "outputs": [
    {
     "name": "stdout",
     "output_type": "stream",
     "text": [
      "CPU times: user 1min 47s, sys: 14.6 s, total: 2min 2s\n",
      "Wall time: 1min 7s\n"
     ]
    },
    {
     "data": {
      "text/plain": [
       "BaggingClassifier(base_estimator=<tensorflow.python.keras.wrappers.scikit_learn.KerasClassifier object at 0x14268bef0>,\n",
       "                  bootstrap=True, bootstrap_features=True, max_features=0.75,\n",
       "                  max_samples=0.75, n_estimators=15, n_jobs=1, oob_score=False,\n",
       "                  random_state=100, verbose=0, warm_start=False)"
      ]
     },
     "execution_count": 59,
     "metadata": {},
     "output_type": "execute_result"
    }
   ],
   "source": [
    "%time model_bag.fit(train_[cols], train['d'])"
   ]
  },
  {
   "cell_type": "code",
   "execution_count": null,
   "metadata": {},
   "outputs": [],
   "source": []
  }
 ],
 "metadata": {
  "kernelspec": {
   "display_name": "Python 3",
   "language": "python",
   "name": "python3"
  },
  "language_info": {
   "codemirror_mode": {
    "name": "ipython",
    "version": 3
   },
   "file_extension": ".py",
   "mimetype": "text/x-python",
   "name": "python",
   "nbconvert_exporter": "python",
   "pygments_lexer": "ipython3",
   "version": "3.7.3"
  }
 },
 "nbformat": 4,
 "nbformat_minor": 2
}
