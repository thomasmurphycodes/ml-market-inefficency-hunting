{
 "cells": [
  {
   "cell_type": "markdown",
   "metadata": {},
   "source": [
    "# Introduction\n",
    "* Reinforcement learning works by **trial and error** - aiming to maxmize a reward function/high score\n",
    "* It is **unsupervised**, and wanders around the problem space establishing structure to maximize its reward\n",
    "\n",
    "### Definitions\n",
    "* **Environment** - The problem space, like a video game or financial market\n",
    "* **State** - All relevant parameters defining the problem space\n",
    "* **Agent** - **All Elements** of the algorithm that interact with the state\n",
    "* **Action** - Choose action ${A_{i}}$ from the set of the actions\n",
    "* **Step** - Given the Agent's *action*, the *environment* is updated - this is one *step* \n",
    "* **Reward** - A reward or penalty is awarded based on the *Action* chosen by the agent (e.g. Points in a video game or P/L in finance)\n",
    "* **Target** - What the *Agent* tries to maximize\n",
    "* **Policy** - The *Deterministic* action the agent takes given the current state of the environment\n",
    "* **Episode** - a set of *Steps* taken until success is achieved or failure is observed. In finance this could be something like **Profit over the course of one year or bankruptcy**"
   ]
  },
  {
   "cell_type": "markdown",
   "metadata": {},
   "source": [
    "# Environment\n",
    "\n",
    "* The **OpenAI Gym** environment allows for the training of RL agents\n",
    "* The classic problem in Reinforcement Learning is **CartPole**, where an agent learns to move a cart left or right to balance a pole in the cart\n",
    "* The state of the environment is describred in a four variable vector {Cart Position, Cart Velocity, Pole Angle, Pole Velocity}\n",
    "* The following code pull in the Gym and inspects the observation source"
   ]
  },
  {
   "cell_type": "code",
   "execution_count": 1,
   "metadata": {},
   "outputs": [
    {
     "name": "stderr",
     "output_type": "stream",
     "text": [
      "//anaconda3/lib/python3.7/importlib/_bootstrap.py:219: RuntimeWarning: numpy.ufunc size changed, may indicate binary incompatibility. Expected 192 from C header, got 216 from PyObject\n",
      "  return f(*args, **kwds)\n",
      "//anaconda3/lib/python3.7/importlib/_bootstrap.py:219: RuntimeWarning: numpy.ufunc size changed, may indicate binary incompatibility. Expected 192 from C header, got 216 from PyObject\n",
      "  return f(*args, **kwds)\n"
     ]
    }
   ],
   "source": [
    "import os\n",
    "import math\n",
    "import random\n",
    "import numpy as np\n",
    "import pandas as pd\n",
    "from pylab import plt\n",
    "import gym\n",
    "plt.style.use('seaborn')\n",
    "np.set_printoptions(precision=4, suppress=True)\n",
    "os.environ['PYTHONHASHSEED'] = '0'"
   ]
  },
  {
   "cell_type": "code",
   "execution_count": 2,
   "metadata": {},
   "outputs": [],
   "source": [
    "env = gym.make('CartPole-v0') # Environment Object"
   ]
  },
  {
   "cell_type": "code",
   "execution_count": 3,
   "metadata": {},
   "outputs": [
    {
     "data": {
      "text/plain": [
       "Box(4,)"
      ]
     },
     "execution_count": 3,
     "metadata": {},
     "output_type": "execute_result"
    }
   ],
   "source": [
    "env.observation_space"
   ]
  },
  {
   "cell_type": "code",
   "execution_count": null,
   "metadata": {},
   "outputs": [],
   "source": []
  }
 ],
 "metadata": {
  "kernelspec": {
   "display_name": "Python 3",
   "language": "python",
   "name": "python3"
  },
  "language_info": {
   "codemirror_mode": {
    "name": "ipython",
    "version": 3
   },
   "file_extension": ".py",
   "mimetype": "text/x-python",
   "name": "python",
   "nbconvert_exporter": "python",
   "pygments_lexer": "ipython3",
   "version": "3.7.3"
  }
 },
 "nbformat": 4,
 "nbformat_minor": 2
}
