{
 "cells": [
  {
   "cell_type": "markdown",
   "metadata": {},
   "source": [
    "# Introduction\n",
    "* Reinforcement learning works by **trial and error** - aiming to maxmize a reward function/high score\n",
    "* It is **unsupervised**, and wanders around the problem space establishing structure to maximize its reward\n",
    "\n",
    "### Definitions\n",
    "* **Environment** - The problem space, like a video game or financial market\n",
    "* **State** - All relevant parameters defining the problem space\n",
    "* **Agent** - **All Elements** of the algorithm that interact with the state\n",
    "* **Action** - Choose action ${A_{i}}$ from the set of the actions\n",
    "* **Step** - Given the Agent's *action*, the *environment* is updated - this is one *step* "
   ]
  },
  {
   "cell_type": "code",
   "execution_count": null,
   "metadata": {},
   "outputs": [],
   "source": []
  }
 ],
 "metadata": {
  "kernelspec": {
   "display_name": "Python 3",
   "language": "python",
   "name": "python3"
  },
  "language_info": {
   "codemirror_mode": {
    "name": "ipython",
    "version": 3
   },
   "file_extension": ".py",
   "mimetype": "text/x-python",
   "name": "python",
   "nbconvert_exporter": "python",
   "pygments_lexer": "ipython3",
   "version": "3.7.3"
  }
 },
 "nbformat": 4,
 "nbformat_minor": 2
}
